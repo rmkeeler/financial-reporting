{
 "cells": [
  {
   "cell_type": "code",
   "execution_count": 1,
   "id": "9c471163",
   "metadata": {},
   "outputs": [],
   "source": [
    "from modules.scraping import create_webdriver\n",
    "from bs4 import BeautifulSoup\n",
    "import requests as r\n",
    "from modules.forex import scrape_conversion_rates, get_conversion_rates, trend_mean_rates"
   ]
  },
  {
   "cell_type": "code",
   "execution_count": 7,
   "id": "4ada71f0",
   "metadata": {},
   "outputs": [
    {
     "name": "stdout",
     "output_type": "stream",
     "text": [
      "Getting webpage...\n",
      "Done! parsing dom...\n",
      "Saving to c:\\users\\keele\\onedrive\\projects\\financial-reporting\\assets\\krw_to_usd.json\n",
      "Getting webpage...\n",
      "Done! parsing dom...\n",
      "Saving to c:\\users\\keele\\onedrive\\projects\\financial-reporting\\assets\\eur_to_usd.json\n",
      "Getting webpage...\n",
      "Done! parsing dom...\n",
      "Saving to c:\\users\\keele\\onedrive\\projects\\financial-reporting\\assets\\jpy_to_usd.json\n"
     ]
    }
   ],
   "source": [
    "krw_to_usd = scrape_conversion_rates('KRW','USD', save = True)\n",
    "eur_to_usd = scrape_conversion_rates('EUR','USD', save = True)\n",
    "jpy_to_usd = scrape_conversion_rates('JPY','USD', save = True)"
   ]
  },
  {
   "cell_type": "code",
   "execution_count": 8,
   "id": "d87f30d6",
   "metadata": {},
   "outputs": [
    {
     "data": {
      "text/plain": [
       "{2022: 0.00864,\n",
       " 2021: 0.009108,\n",
       " 2020: 0.009372,\n",
       " 2019: 0.009178,\n",
       " 2018: 0.009056,\n",
       " 2017: 0.008915,\n",
       " 2016: 0.009229,\n",
       " 2015: 0.008261,\n",
       " 2014: 0.009476,\n",
       " 2013: 0.01026,\n",
       " 2012: 0.012546,\n",
       " 2011: 0.012559,\n",
       " 2010: 0.011426,\n",
       " 2009: 0.010705,\n",
       " 2008: 0.009694,\n",
       " 2007: 0.0085,\n",
       " 2006: 0.008601,\n",
       " 2005: 0.009094,\n",
       " 2004: 0.009252,\n",
       " 2003: 0.008639,\n",
       " 2002: 0.008006,\n",
       " 2001: 0.00824,\n",
       " 2000: 0.009285,\n",
       " 1999: 0.008827,\n",
       " 1998: 0.007681,\n",
       " 1997: 0.008279,\n",
       " 1996: 0.009203,\n",
       " 1995: 0.010698,\n",
       " 1994: 0.009803,\n",
       " 1993: 0.009028,\n",
       " 1992: 0.007902,\n",
       " 1991: 0.00744,\n",
       " 1990: 0.006939,\n",
       " 1989: 0.007265,\n",
       " 1988: 0.007812,\n",
       " 1987: 0.006938,\n",
       " 1986: 0.005974,\n",
       " 1985: 0.004228,\n",
       " 1984: 0.004217,\n",
       " 1983: 0.004214,\n",
       " 1982: 0.004031,\n",
       " 1981: 0.004549,\n",
       " 1980: 0.004439,\n",
       " 1979: 0.004586,\n",
       " 1978: 0.004804,\n",
       " 1977: 0.003742,\n",
       " 1976: 0.003376,\n",
       " 1975: 0.003373,\n",
       " 1974: 0.003436,\n",
       " 1973: 0.003696,\n",
       " 1972: 0.003303,\n",
       " 1971: 0.002882,\n",
       " 1970: 0.002793,\n",
       " 1969: 0.002779,\n",
       " 1968: 0.002778,\n",
       " 1967: 0.002778,\n",
       " 1966: 0.002778,\n",
       " 1965: 0.002778,\n",
       " 1964: 0.002778,\n",
       " 1963: 0.002778,\n",
       " 1962: 0.002778,\n",
       " 1961: 0.002778,\n",
       " 1960: 0.002778}"
      ]
     },
     "execution_count": 8,
     "metadata": {},
     "output_type": "execute_result"
    }
   ],
   "source": [
    "jpy_to_usd"
   ]
  },
  {
   "cell_type": "code",
   "execution_count": null,
   "id": "1f8c5b85",
   "metadata": {},
   "outputs": [],
   "source": [
    "currency_a = 'KRW'\n",
    "currency_b = 'USD'\n",
    "url = 'https://fxtop.com/en/historical-exchange-rates.php?A=1&C1={}&C2={}&YA=1&DD1=&MM1=&YYYY1=&B=1&P=&I=1&DD2=07&MM2=01&YYYY2=2022&btnOK=Go!'.format(currency_a.upper(), currency_b.upper())\n",
    "response = r.get(url)"
   ]
  },
  {
   "cell_type": "code",
   "execution_count": null,
   "id": "cac18001",
   "metadata": {},
   "outputs": [],
   "source": [
    "soup = BeautifulSoup(response.text, 'html')"
   ]
  },
  {
   "cell_type": "code",
   "execution_count": null,
   "id": "e60c33e9",
   "metadata": {},
   "outputs": [],
   "source": [
    "forex = dict()\n",
    "for row in soup.find('table', {'border':1}).find_all('tr')[1:]:\n",
    "    forex[row.find_all('td')[0].text] = float(row.find_all('td')[1].text)"
   ]
  },
  {
   "cell_type": "code",
   "execution_count": null,
   "id": "3ca38ab9",
   "metadata": {},
   "outputs": [],
   "source": [
    "forex"
   ]
  }
 ],
 "metadata": {
  "kernelspec": {
   "display_name": "financial-reporting",
   "language": "python",
   "name": "financial-reporting"
  },
  "language_info": {
   "codemirror_mode": {
    "name": "ipython",
    "version": 3
   },
   "file_extension": ".py",
   "mimetype": "text/x-python",
   "name": "python",
   "nbconvert_exporter": "python",
   "pygments_lexer": "ipython3",
   "version": "3.8.7"
  }
 },
 "nbformat": 4,
 "nbformat_minor": 5
}
