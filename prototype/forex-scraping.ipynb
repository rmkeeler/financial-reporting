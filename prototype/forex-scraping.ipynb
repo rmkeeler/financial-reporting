{
 "cells": [
  {
   "cell_type": "code",
   "execution_count": 1,
   "id": "9c471163",
   "metadata": {},
   "outputs": [],
   "source": [
    "from modules.scraping import create_webdriver\n",
    "from bs4 import BeautifulSoup\n",
    "import requests as r\n",
    "from modules.forex import scrape_conversion_rates, get_conversion_rates, trend_mean_rates"
   ]
  },
  {
   "cell_type": "code",
   "execution_count": 3,
   "id": "4ada71f0",
   "metadata": {},
   "outputs": [
    {
     "name": "stdout",
     "output_type": "stream",
     "text": [
      "Getting webpage...\n",
      "Done! parsing dom...\n",
      "Saving to c:\\users\\keele\\onedrive\\projects\\financial-reporting\\assets\\twd_to_usd.json\n"
     ]
    }
   ],
   "source": [
    "twd_to_usd = scrape_conversion_rates('TWD','USD', save = True)"
   ]
  },
  {
   "cell_type": "code",
   "execution_count": 4,
   "id": "d87f30d6",
   "metadata": {},
   "outputs": [
    {
     "data": {
      "text/plain": [
       "{2022: 0.036192,\n",
       " 2021: 0.035803,\n",
       " 2020: 0.033973,\n",
       " 2019: 0.032354,\n",
       " 2018: 0.033183,\n",
       " 2017: 0.032865,\n",
       " 2016: 0.031025,\n",
       " 2015: 0.031492,\n",
       " 2014: 0.032998,\n",
       " 2013: 0.033683,\n",
       " 2012: 0.033811,\n",
       " 2011: 0.034014,\n",
       " 2010: 0.031726,\n",
       " 2009: 0.030273,\n",
       " 2008: 0.031726,\n",
       " 2007: 0.030395,\n",
       " 2006: 0.030741,\n",
       " 2005: 0.031132,\n",
       " 2004: 0.029968,\n",
       " 2003: 0.029074,\n",
       " 2002: 0.029013,\n",
       " 2001: 0.029436,\n",
       " 2000: 0.031957,\n",
       " 1999: 0.03095,\n",
       " 1998: 0.029841,\n",
       " 1997: 0.034841,\n",
       " 1996: 0.036406,\n",
       " 1995: 0.037765,\n",
       " 1994: 0.03779,\n",
       " 1993: 0.037905,\n",
       " 1992: 0.03975,\n",
       " 1991: 0.037215,\n",
       " 1990: 0.037187,\n",
       " 1989: 0.037877,\n",
       " 1988: 0.03492,\n",
       " 1987: 0.031523,\n",
       " 1986: 0.026428,\n",
       " 1985: 0.025061,\n",
       " 1984: 0.025229,\n",
       " 1983: 0.025467}"
      ]
     },
     "execution_count": 4,
     "metadata": {},
     "output_type": "execute_result"
    }
   ],
   "source": [
    "twd_to_usd"
   ]
  },
  {
   "cell_type": "code",
   "execution_count": null,
   "id": "1f8c5b85",
   "metadata": {},
   "outputs": [],
   "source": [
    "currency_a = 'KRW'\n",
    "currency_b = 'USD'\n",
    "url = 'https://fxtop.com/en/historical-exchange-rates.php?A=1&C1={}&C2={}&YA=1&DD1=&MM1=&YYYY1=&B=1&P=&I=1&DD2=07&MM2=01&YYYY2=2022&btnOK=Go!'.format(currency_a.upper(), currency_b.upper())\n",
    "response = r.get(url)"
   ]
  },
  {
   "cell_type": "code",
   "execution_count": null,
   "id": "cac18001",
   "metadata": {},
   "outputs": [],
   "source": [
    "soup = BeautifulSoup(response.text, 'html')"
   ]
  },
  {
   "cell_type": "code",
   "execution_count": null,
   "id": "e60c33e9",
   "metadata": {},
   "outputs": [],
   "source": [
    "forex = dict()\n",
    "for row in soup.find('table', {'border':1}).find_all('tr')[1:]:\n",
    "    forex[row.find_all('td')[0].text] = float(row.find_all('td')[1].text)"
   ]
  },
  {
   "cell_type": "code",
   "execution_count": null,
   "id": "3ca38ab9",
   "metadata": {},
   "outputs": [],
   "source": [
    "forex"
   ]
  }
 ],
 "metadata": {
  "kernelspec": {
   "display_name": "financial-reporting",
   "language": "python",
   "name": "financial-reporting"
  },
  "language_info": {
   "codemirror_mode": {
    "name": "ipython",
    "version": 3
   },
   "file_extension": ".py",
   "mimetype": "text/x-python",
   "name": "python",
   "nbconvert_exporter": "python",
   "pygments_lexer": "ipython3",
   "version": "3.8.7"
  }
 },
 "nbformat": 4,
 "nbformat_minor": 5
}
