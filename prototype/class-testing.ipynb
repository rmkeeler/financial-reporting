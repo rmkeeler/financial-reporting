{
 "cells": [
  {
   "cell_type": "code",
   "execution_count": 1,
   "id": "1cee7322",
   "metadata": {},
   "outputs": [],
   "source": [
    "from definitions import WEBDRIVER_PATH\n",
    "from modules.functions_plotting import plot_companies\n",
    "from modules.classes import company\n",
    "import pandas as pd\n",
    "import re\n",
    "import numpy as np"
   ]
  },
  {
   "cell_type": "code",
   "execution_count": 2,
   "id": "9ede40cc",
   "metadata": {},
   "outputs": [],
   "source": [
    "intel = company('INTC', method = 'import')"
   ]
  },
  {
   "cell_type": "code",
   "execution_count": 3,
   "id": "b54f5e2f",
   "metadata": {},
   "outputs": [
    {
     "name": "stdout",
     "output_type": "stream",
     "text": [
      "Creating web driver...\n",
      "Requesting https://finance.yahoo.com/quote/INTC/financials...\n",
      "Recent Quarter: 4199000.0\n",
      "Row Name: basic_average_shares\n",
      "ttm_index: 0\n"
     ]
    },
    {
     "data": {
      "text/plain": [
       "array([4199000., 4199000., 4417000., 4611000., 4701000.])"
      ]
     },
     "execution_count": 3,
     "metadata": {},
     "output_type": "execute_result"
    }
   ],
   "source": [
    "intel.fill_ttm('is','Basic Average Shares')"
   ]
  },
  {
   "cell_type": "code",
   "execution_count": null,
   "id": "a26c002b",
   "metadata": {},
   "outputs": [],
   "source": [
    "intel.income_statement"
   ]
  },
  {
   "cell_type": "code",
   "execution_count": null,
   "id": "1c6faf3b",
   "metadata": {},
   "outputs": [],
   "source": [
    "qualcomm = company('QCOM', method = 'import')"
   ]
  },
  {
   "cell_type": "code",
   "execution_count": null,
   "id": "0b1848e0",
   "metadata": {},
   "outputs": [],
   "source": [
    "tsmc = company('TSM', method = 'import')"
   ]
  },
  {
   "cell_type": "code",
   "execution_count": null,
   "id": "18214355",
   "metadata": {},
   "outputs": [],
   "source": [
    "ni = company('NATI', method = 'import')"
   ]
  },
  {
   "cell_type": "code",
   "execution_count": null,
   "id": "a27c5acd",
   "metadata": {},
   "outputs": [],
   "source": [
    "amd = company('AMD', method = 'import')"
   ]
  },
  {
   "cell_type": "code",
   "execution_count": null,
   "id": "110c5f01",
   "metadata": {},
   "outputs": [],
   "source": [
    "nvidia = company('NVDA', method = 'import')"
   ]
  },
  {
   "cell_type": "code",
   "execution_count": null,
   "id": "59f86341",
   "metadata": {},
   "outputs": [],
   "source": [
    "ti = company('TXN', method = 'import')"
   ]
  },
  {
   "cell_type": "code",
   "execution_count": null,
   "id": "387a0bb4",
   "metadata": {},
   "outputs": [],
   "source": [
    "dell = company('DELL', method = 'import')"
   ]
  },
  {
   "cell_type": "code",
   "execution_count": null,
   "id": "bf3e551f",
   "metadata": {},
   "outputs": [],
   "source": [
    "intel.calculate_metrics()\n",
    "tsmc.calculate_metrics()"
   ]
  },
  {
   "cell_type": "code",
   "execution_count": null,
   "id": "fbaa447f",
   "metadata": {},
   "outputs": [],
   "source": [
    "fig = plot_companies([intel.income_statement, tsmc.income_statement], 'operating_margin')"
   ]
  },
  {
   "cell_type": "code",
   "execution_count": null,
   "id": "e813d362",
   "metadata": {},
   "outputs": [],
   "source": [
    "fig.show();"
   ]
  }
 ],
 "metadata": {
  "kernelspec": {
   "display_name": "financial-reporting",
   "language": "python",
   "name": "financial-reporting"
  },
  "language_info": {
   "codemirror_mode": {
    "name": "ipython",
    "version": 3
   },
   "file_extension": ".py",
   "mimetype": "text/x-python",
   "name": "python",
   "nbconvert_exporter": "python",
   "pygments_lexer": "ipython3",
   "version": "3.8.5"
  }
 },
 "nbformat": 4,
 "nbformat_minor": 5
}
