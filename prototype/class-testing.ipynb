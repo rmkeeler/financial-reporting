{
 "cells": [
  {
   "cell_type": "code",
   "execution_count": 1,
   "id": "1cee7322",
   "metadata": {},
   "outputs": [],
   "source": [
    "from definitions import WEBDRIVER_PATH\n",
    "from modules.plotting import plot_companies\n",
    "from modules.classes import company\n",
    "import pandas as pd\n",
    "import re\n",
    "import numpy as np"
   ]
  },
  {
   "cell_type": "code",
   "execution_count": 2,
   "id": "88d027f1",
   "metadata": {},
   "outputs": [],
   "source": [
    "# Conversion from euro necessary\n",
    "ubisoft = company('UBSFY', method = 'import')"
   ]
  },
  {
   "cell_type": "code",
   "execution_count": 3,
   "id": "093416e3",
   "metadata": {},
   "outputs": [
    {
     "data": {
      "text/plain": [
       "array([2218100., 2223800., 1594831., 1845522., 1731894.])"
      ]
     },
     "execution_count": 3,
     "metadata": {},
     "output_type": "execute_result"
    }
   ],
   "source": [
    "ubisoft.statements['is']['statement']['total_revenue']"
   ]
  },
  {
   "cell_type": "code",
   "execution_count": 4,
   "id": "5cf060fb",
   "metadata": {},
   "outputs": [
    {
     "data": {
      "text/plain": [
       "array([1513200., 1498300., 1300444., 1308334., 1174515.])"
      ]
     },
     "execution_count": 4,
     "metadata": {},
     "output_type": "execute_result"
    }
   ],
   "source": [
    "ubisoft.statements['is']['statement']['operating_expense']"
   ]
  },
  {
   "cell_type": "code",
   "execution_count": 5,
   "id": "12245e6e",
   "metadata": {},
   "outputs": [
    {
     "data": {
      "text/plain": [
       "{'2017': 1.1264083333333332,\n",
       " '2018': 1.18225,\n",
       " '2019': 1.1210041666666666,\n",
       " '2020': 1.1393666666666666,\n",
       " '2021': 1.1857291666666667}"
      ]
     },
     "execution_count": 5,
     "metadata": {},
     "output_type": "execute_result"
    }
   ],
   "source": [
    "ubisoft.convert_currency('EUR','USD')"
   ]
  },
  {
   "cell_type": "code",
   "execution_count": 6,
   "id": "422e25c3",
   "metadata": {},
   "outputs": [
    {
     "data": {
      "text/plain": [
       "array([2498486., 2629088., 1787812., 2102726., 2053557.])"
      ]
     },
     "execution_count": 6,
     "metadata": {},
     "output_type": "execute_result"
    }
   ],
   "source": [
    "ubisoft.statements['is']['statement']['total_revenue']"
   ]
  },
  {
   "cell_type": "code",
   "execution_count": 8,
   "id": "9d85a5de",
   "metadata": {},
   "outputs": [
    {
     "data": {
      "text/plain": [
       "['2021', '2020', '2019', '2018', '2017']"
      ]
     },
     "execution_count": 8,
     "metadata": {},
     "output_type": "execute_result"
    }
   ],
   "source": [
    "ubisoft.statements['is']['statement']['year_adjusted']"
   ]
  },
  {
   "cell_type": "code",
   "execution_count": null,
   "id": "86e5eed9",
   "metadata": {},
   "outputs": [],
   "source": [
    "ea = company('EA', method = 'import')"
   ]
  },
  {
   "cell_type": "code",
   "execution_count": null,
   "id": "0f96438b",
   "metadata": {},
   "outputs": [],
   "source": [
    "plot_companies([ubisoft, ea], 'total_revenue').show();"
   ]
  },
  {
   "cell_type": "code",
   "execution_count": null,
   "id": "9e717826",
   "metadata": {},
   "outputs": [],
   "source": [
    "ubisoft.plot_metrics(['total_revenue','operating_expense']).show();"
   ]
  },
  {
   "cell_type": "code",
   "execution_count": null,
   "id": "84ce4092",
   "metadata": {},
   "outputs": [],
   "source": [
    "activision = company('ATVI', method = 'import')"
   ]
  },
  {
   "cell_type": "code",
   "execution_count": null,
   "id": "4676b85b",
   "metadata": {},
   "outputs": [],
   "source": [
    "devolver = company('DEVO.L', method = 'import')"
   ]
  },
  {
   "cell_type": "code",
   "execution_count": 9,
   "id": "36214d58",
   "metadata": {},
   "outputs": [],
   "source": [
    "# Conversion from yen necessary\n",
    "nintendo = company('NTDOY', method = 'import')"
   ]
  },
  {
   "cell_type": "code",
   "execution_count": 10,
   "id": "e624b17e",
   "metadata": {},
   "outputs": [
    {
     "data": {
      "text/plain": [
       "array([1.613658e+09, 1.758910e+09, 1.308519e+09, 1.200560e+09,\n",
       "       1.055682e+09])"
      ]
     },
     "execution_count": 10,
     "metadata": {},
     "output_type": "execute_result"
    }
   ],
   "source": [
    "nintendo.statements['is']['statement']['total_revenue']"
   ]
  },
  {
   "cell_type": "code",
   "execution_count": 11,
   "id": "edce06aa",
   "metadata": {},
   "outputs": [
    {
     "data": {
      "text/plain": [
       "{'2017': 0.008908961851413743,\n",
       " '2018': 0.009063701958698206,\n",
       " '2019': 0.009166197732901558,\n",
       " '2020': 0.00936655323757658,\n",
       " '2021': 0.009127661768831648}"
      ]
     },
     "execution_count": 11,
     "metadata": {},
     "output_type": "execute_result"
    }
   ],
   "source": [
    "nintendo.convert_currency('JPY','USD')"
   ]
  },
  {
   "cell_type": "code",
   "execution_count": 12,
   "id": "9cb68474",
   "metadata": {},
   "outputs": [
    {
     "data": {
      "text/plain": [
       "array([14376018., 15942236., 11994144., 11245109.,  9635908.])"
      ]
     },
     "execution_count": 12,
     "metadata": {},
     "output_type": "execute_result"
    }
   ],
   "source": [
    "nintendo.statements['is']['statement']['total_revenue']"
   ]
  },
  {
   "cell_type": "code",
   "execution_count": null,
   "id": "8bb686a2",
   "metadata": {},
   "outputs": [],
   "source": [
    "# Conversion from yen necessary\n",
    "squareenix = company('SQNXF', method = 'import')"
   ]
  },
  {
   "cell_type": "code",
   "execution_count": null,
   "id": "9946589d",
   "metadata": {},
   "outputs": [],
   "source": [
    "# Conversion from yen necessary\n",
    "capcom = company('CCOEY', method = 'import')"
   ]
  },
  {
   "cell_type": "code",
   "execution_count": null,
   "id": "6f9fa985",
   "metadata": {},
   "outputs": [],
   "source": [
    "# Conversion from yen necessary\n",
    "bandainamco = company('NCBDF', method = 'import')"
   ]
  },
  {
   "cell_type": "code",
   "execution_count": null,
   "id": "8bb7f1d0",
   "metadata": {},
   "outputs": [],
   "source": [
    "conversion = [['2019',1.5],['2020',1.6],['2021',1.4]]"
   ]
  },
  {
   "cell_type": "code",
   "execution_count": null,
   "id": "4007dd5c",
   "metadata": {},
   "outputs": [],
   "source": [
    "conversion_array = np.asarray(conversion)\n",
    "conversion_filter = np.asarray(['2020','2021'])\n",
    "conversion_array"
   ]
  },
  {
   "cell_type": "code",
   "execution_count": null,
   "id": "a7b4aadd",
   "metadata": {},
   "outputs": [],
   "source": [
    "mask = np.in1d(conversion_array[:,0], conversion_filter)\n",
    "conversion_array[mask]"
   ]
  }
 ],
 "metadata": {
  "kernelspec": {
   "display_name": "financial-reporting",
   "language": "python",
   "name": "financial-reporting"
  },
  "language_info": {
   "codemirror_mode": {
    "name": "ipython",
    "version": 3
   },
   "file_extension": ".py",
   "mimetype": "text/x-python",
   "name": "python",
   "nbconvert_exporter": "python",
   "pygments_lexer": "ipython3",
   "version": "3.8.7"
  }
 },
 "nbformat": 4,
 "nbformat_minor": 5
}
