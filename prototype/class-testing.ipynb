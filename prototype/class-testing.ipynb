{
 "cells": [
  {
   "cell_type": "code",
   "execution_count": 1,
   "id": "1cee7322",
   "metadata": {},
   "outputs": [],
   "source": [
    "from definitions import WEBDRIVER_PATH\n",
    "from modules.classes import company\n",
    "import pandas as pd"
   ]
  },
  {
   "cell_type": "code",
   "execution_count": 2,
   "id": "e677850b",
   "metadata": {},
   "outputs": [],
   "source": [
    "intel = company('INTC', method = 'import')"
   ]
  },
  {
   "cell_type": "code",
   "execution_count": 3,
   "id": "758d3291",
   "metadata": {},
   "outputs": [
    {
     "data": {
      "text/plain": [
       "|||INTC Object Metadata|||\n",
       "                                                                       \n",
       "Statements Available                                ['is', 'bs', 'cfs']\n",
       "Income Years          ['ttm', '12/31/2020', '12/31/2019', '12/31/201...\n",
       "Balance Years         ['12/31/2020', '12/31/2019', '12/31/2018', '12...\n",
       "Cash Flow Years       ['12/31/2020', '12/31/2019', '12/31/2018', '12..."
      ]
     },
     "execution_count": 3,
     "metadata": {},
     "output_type": "execute_result"
    }
   ],
   "source": [
    "intel"
   ]
  },
  {
   "cell_type": "code",
   "execution_count": 4,
   "id": "ec214a66",
   "metadata": {},
   "outputs": [],
   "source": [
    "intel.calculate_metrics()"
   ]
  },
  {
   "cell_type": "code",
   "execution_count": 5,
   "id": "77a284a5",
   "metadata": {},
   "outputs": [
    {
     "data": {
      "text/plain": [
       "dict_keys(['year', 'total_assets', 'total_liabilities_net_minority_interest', 'total_equity_gross_minority_interest', 'total_capitalization', 'common_stock_equity', 'net_tangible_assets', 'working_capital', 'invested_capital', 'tangible_book_value', 'total_debt', 'net_debt', 'share_issued', 'ordinary_shares_number', 'current_assets', 'total_non-current_assets', 'current_liabilities', 'total_non_current_liabilities_net_minority_interest', \"stockholders'_equity\", 'cash,_cash_equivalents_and_short_term_investments', 'receivables', 'inventory', 'assets_held_for_sale_current', 'other_current_assets', 'net_ppe', 'goodwill_and_other_intangible_assets', 'investments_and_advances', 'financial_assets', 'non_current_accounts_receivable', 'non_current_note_receivables', 'non_current_deferred_assets', 'non_current_prepaid_assets', 'other_non_current_assets', 'payables_and_accrued_expenses', 'pension_and_other_post_retirement_benefit_plans_current', 'current_debt_and_capital_lease_obligation', 'current_deferred_liabilities', 'long_term_debt_and_capital_lease_obligation', 'non_current_deferred_liabilities', 'tradeand_other_payables_non_current', 'preferred_securities_outside_stock_equity', 'other_non_current_liabilities', 'capital_stock', 'retained_earnings', 'gains_losses_not_affecting_retained_earnings', 'other_equity_interest'])"
      ]
     },
     "execution_count": 5,
     "metadata": {},
     "output_type": "execute_result"
    }
   ],
   "source": [
    "intel.balance_sheet['statement'].keys()"
   ]
  }
 ],
 "metadata": {
  "kernelspec": {
   "display_name": "financial-reporting",
   "language": "python",
   "name": "financial-reporting"
  },
  "language_info": {
   "codemirror_mode": {
    "name": "ipython",
    "version": 3
   },
   "file_extension": ".py",
   "mimetype": "text/x-python",
   "name": "python",
   "nbconvert_exporter": "python",
   "pygments_lexer": "ipython3",
   "version": "3.8.5"
  }
 },
 "nbformat": 4,
 "nbformat_minor": 5
}
