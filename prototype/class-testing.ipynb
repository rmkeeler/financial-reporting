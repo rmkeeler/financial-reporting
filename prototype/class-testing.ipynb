{
 "cells": [
  {
   "cell_type": "code",
   "execution_count": 1,
   "id": "1cee7322",
   "metadata": {},
   "outputs": [],
   "source": [
    "from definitions import WEBDRIVER_PATH\n",
    "from modules.classes import company\n",
    "import pandas as pd"
   ]
  },
  {
   "cell_type": "code",
   "execution_count": 2,
   "id": "e677850b",
   "metadata": {},
   "outputs": [
    {
     "name": "stdout",
     "output_type": "stream",
     "text": [
      "Getting is statement for INTC...\n",
      "Creating web driver...\n",
      "Requesting statement DOM from Yahoo Finance...\n",
      "Parsing statement DOM...\n",
      "\n",
      "\n",
      "Getting bs statement for INTC...\n",
      "Creating web driver...\n",
      "Requesting statement DOM from Yahoo Finance...\n",
      "Parsing statement DOM...\n",
      "\n",
      "\n",
      "Getting cfs statement for INTC...\n",
      "Creating web driver...\n",
      "Requesting statement DOM from Yahoo Finance...\n",
      "Parsing statement DOM...\n",
      "\n",
      "\n"
     ]
    }
   ],
   "source": [
    "intel = company('INTC', method = 'scrape')"
   ]
  },
  {
   "cell_type": "code",
   "execution_count": 6,
   "id": "8488a4bf",
   "metadata": {},
   "outputs": [
    {
     "name": "stdout",
     "output_type": "stream",
     "text": [
      "Getting is statement for AMD...\n",
      "Creating web driver...\n",
      "Requesting statement DOM from Yahoo Finance...\n",
      "Parsing statement DOM...\n",
      "\n",
      "\n",
      "Getting bs statement for AMD...\n",
      "Creating web driver...\n",
      "Requesting statement DOM from Yahoo Finance...\n",
      "Parsing statement DOM...\n",
      "\n",
      "\n",
      "Getting cfs statement for AMD...\n",
      "Creating web driver...\n",
      "Requesting statement DOM from Yahoo Finance...\n",
      "Parsing statement DOM...\n",
      "\n",
      "\n"
     ]
    }
   ],
   "source": [
    "amd = company('AMD', method = 'scrape')"
   ]
  },
  {
   "cell_type": "code",
   "execution_count": 7,
   "id": "578b0e2f",
   "metadata": {},
   "outputs": [
    {
     "name": "stdout",
     "output_type": "stream",
     "text": [
      "Getting is statement for NVDA...\n",
      "Creating web driver...\n",
      "Requesting statement DOM from Yahoo Finance...\n",
      "Parsing statement DOM...\n",
      "\n",
      "\n",
      "Getting bs statement for NVDA...\n",
      "Creating web driver...\n",
      "Requesting statement DOM from Yahoo Finance...\n",
      "Parsing statement DOM...\n",
      "\n",
      "\n",
      "Getting cfs statement for NVDA...\n",
      "Creating web driver...\n",
      "Requesting statement DOM from Yahoo Finance...\n",
      "Parsing statement DOM...\n",
      "\n",
      "\n"
     ]
    }
   ],
   "source": [
    "nvidia = company('NVDA', method = 'scrape')"
   ]
  },
  {
   "cell_type": "code",
   "execution_count": 8,
   "id": "a941fe0d",
   "metadata": {},
   "outputs": [
    {
     "name": "stdout",
     "output_type": "stream",
     "text": [
      "Getting is statement for DELL...\n",
      "Creating web driver...\n",
      "Requesting statement DOM from Yahoo Finance...\n",
      "Parsing statement DOM...\n",
      "\n",
      "\n",
      "Getting bs statement for DELL...\n",
      "Creating web driver...\n",
      "Requesting statement DOM from Yahoo Finance...\n",
      "Parsing statement DOM...\n",
      "\n",
      "\n",
      "Getting cfs statement for DELL...\n",
      "Creating web driver...\n",
      "Requesting statement DOM from Yahoo Finance...\n",
      "Parsing statement DOM...\n",
      "\n",
      "\n"
     ]
    }
   ],
   "source": [
    "dell = company('DELL', method = 'scrape')"
   ]
  },
  {
   "cell_type": "code",
   "execution_count": 7,
   "id": "e4d16cf4",
   "metadata": {},
   "outputs": [
    {
     "data": {
      "text/plain": [
       "{'groupings': {},\n",
       " 'statement': {'year': array(['ttm', '1/31/2021', '1/31/2020', '1/31/2019', '1/31/2018'],\n",
       "        dtype='<U9'),\n",
       "  'operating_cash_flow': array([13091000., 11407000.,  9291000.,  6991000.,  6810000.]),\n",
       "  'investing_cash_flow': array([ 1567000.,  -460000., -4686000.,  3389000., -2881000.]),\n",
       "  'financing_cash_flow': array([ -3495000.,  -5950000.,  -4604000., -14329000.,    364000.]),\n",
       "  'end_cash_position': array([23320000., 15184000., 10151000., 10240000., 13942000.]),\n",
       "  'income_tax_paid_supplemental_data': array([      0., 1421000., 1414000.,  747000.,  924000.]),\n",
       "  'interest_paid_supplemental_data': array([      0., 2279000., 2500000., 2347000., 2192000.]),\n",
       "  'capital_expenditure': array([-2554000., -2082000., -2576000., -1497000., -1581000.]),\n",
       "  'issuance_of_capital_stock': array([389000., 452000., 658000., 803000., 131000.]),\n",
       "  'issuance_of_debt': array([14656000., 16391000., 20481000., 13045000., 14439000.]),\n",
       "  'repayment_of_debt': array([-16744000., -20919000., -22117000., -11451000., -12321000.]),\n",
       "  'repurchase_of_capital_stock': array([ -1683000.,  -1604000.,  -3553000., -14490000.,  -1838000.]),\n",
       "  'free_cash_flow': array([10537000.,  9325000.,  6715000.,  5494000.,  5229000.]),\n",
       "  'cash_flow_from_continuing_operating_activities': array([13091000., 11407000.,  9291000.,  6991000.,  6810000.]),\n",
       "  'cash_flow_from_continuing_investing_activities': array([ 1567000.,  -460000., -4686000.,  3389000., -2881000.]),\n",
       "  'cash_flow_from_continuing_financing_activities': array([ -3495000.,  -5950000.,  -4604000., -14329000.,    364000.]),\n",
       "  'changes_in_cash': array([ 1.1163e+07,  4.9970e+06,  1.0000e+03, -3.9490e+06,  4.2930e+06]),\n",
       "  'effect_of_exchange_rate_changes': array([  49000.,   36000.,  -90000., -189000.,  175000.]),\n",
       "  'beginning_cash_position': array([12157000., 10151000., 10240000., 14378000.,  9474000.])}}"
      ]
     },
     "execution_count": 7,
     "metadata": {},
     "output_type": "execute_result"
    }
   ],
   "source": [
    "dell.cash_flow"
   ]
  },
  {
   "cell_type": "code",
   "execution_count": 9,
   "id": "29c3c089",
   "metadata": {},
   "outputs": [
    {
     "name": "stdout",
     "output_type": "stream",
     "text": [
      "Statements to be saved: ['is', 'bs', 'cfs']\n",
      "Statements to be saved: ['is', 'bs', 'cfs']\n",
      "Statements to be saved: ['is', 'bs', 'cfs']\n",
      "Statements to be saved: ['is', 'bs', 'cfs']\n"
     ]
    }
   ],
   "source": [
    "for co in [intel, dell, amd, nvidia]:\n",
    "    co.save_statements()"
   ]
  }
 ],
 "metadata": {
  "kernelspec": {
   "display_name": "financial-reporting",
   "language": "python",
   "name": "financial-reporting"
  },
  "language_info": {
   "codemirror_mode": {
    "name": "ipython",
    "version": 3
   },
   "file_extension": ".py",
   "mimetype": "text/x-python",
   "name": "python",
   "nbconvert_exporter": "python",
   "pygments_lexer": "ipython3",
   "version": "3.8.7"
  }
 },
 "nbformat": 4,
 "nbformat_minor": 5
}
