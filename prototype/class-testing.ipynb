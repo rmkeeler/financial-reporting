{
 "cells": [
  {
   "cell_type": "code",
   "execution_count": 1,
   "id": "1cee7322",
   "metadata": {},
   "outputs": [],
   "source": [
    "from definitions import WEBDRIVER_PATH\n",
    "from modules.classes import company\n",
    "import pandas as pd"
   ]
  },
  {
   "cell_type": "code",
   "execution_count": 2,
   "id": "9ede40cc",
   "metadata": {},
   "outputs": [],
   "source": [
    "intel = company('INTC', method = 'import')"
   ]
  },
  {
   "cell_type": "code",
   "execution_count": 3,
   "id": "a27c5acd",
   "metadata": {},
   "outputs": [],
   "source": [
    "amd = company('AMD', method = 'import')"
   ]
  },
  {
   "cell_type": "code",
   "execution_count": 4,
   "id": "110c5f01",
   "metadata": {},
   "outputs": [],
   "source": [
    "nvidia = company('NVDA', method = 'import')"
   ]
  },
  {
   "cell_type": "code",
   "execution_count": 5,
   "id": "59f86341",
   "metadata": {},
   "outputs": [],
   "source": [
    "ti = company('TXN', method = 'import')"
   ]
  },
  {
   "cell_type": "code",
   "execution_count": 6,
   "id": "387a0bb4",
   "metadata": {},
   "outputs": [],
   "source": [
    "dell = company('DELL', method = 'import')"
   ]
  }
 ],
 "metadata": {
  "kernelspec": {
   "display_name": "financial-reporting",
   "language": "python",
   "name": "financial-reporting"
  },
  "language_info": {
   "codemirror_mode": {
    "name": "ipython",
    "version": 3
   },
   "file_extension": ".py",
   "mimetype": "text/x-python",
   "name": "python",
   "nbconvert_exporter": "python",
   "pygments_lexer": "ipython3",
   "version": "3.8.5"
  }
 },
 "nbformat": 4,
 "nbformat_minor": 5
}
