{
 "cells": [
  {
   "cell_type": "code",
   "execution_count": 1,
   "id": "1cee7322",
   "metadata": {},
   "outputs": [],
   "source": [
    "from definitions import WEBDRIVER_PATH\n",
    "from modules.classes import company\n",
    "import pandas as pd"
   ]
  },
  {
   "cell_type": "code",
   "execution_count": 2,
   "id": "e677850b",
   "metadata": {},
   "outputs": [],
   "source": [
    "intel = company('INTC', method = 'import')"
   ]
  },
  {
   "cell_type": "code",
   "execution_count": 3,
   "id": "25d98650",
   "metadata": {},
   "outputs": [
    {
     "data": {
      "text/plain": [
       "{'year': ['ttm', '12/31/2020', '12/31/2019', '12/31/2018', '12/31/2017'],\n",
       " 'total_revenue': array([78474000., 77867000., 71965000., 70848000., 62761000.]),\n",
       " 'cost_of_revenue': array([34320000., 34255000., 29825000., 27111000., 23692000.]),\n",
       " 'gross_profit': array([44154000., 43612000., 42140000., 43737000., 39069000.]),\n",
       " 'selling_general_and_administrative': array([6358000., 6180000., 6150000., 6750000., 7474000.]),\n",
       " 'research_and_development': array([14796000., 13556000., 13362000., 13543000., 13098000.]),\n",
       " 'depreciation_amortization_depletion': array([     0.,      0., 200000., 200000., 177000.]),\n",
       " 'operating_income': array([23000000., 23876000., 22428000., 23244000., 18320000.]),\n",
       " 'net_non_operating_interest_income_expense': array([-416000., -504000.,  484000.,  126000., -235000.]),\n",
       " 'other_income_expense': array([1413000., 1706000., 1146000.,  -53000., 2267000.]),\n",
       " 'pretax_income': array([23997000., 25078000., 24058000., 23317000., 20352000.]),\n",
       " 'tax_provision': array([ 2895000.,  4179000.,  3010000.,  2264000., 10751000.]),\n",
       " 'net_income_common_stockholders': array([21102000., 20899000., 21048000., 21053000.,  9601000.]),\n",
       " 'diluted_ni_available_to_com_stockholders': array([21102000., 20899000., 21048000., 21053000.,  9601000.]),\n",
       " 'basic_eps': array([0.  , 4.98, 4.77, 4.57, 2.04]),\n",
       " 'diluted_eps': array([0.  , 4.94, 4.71, 4.48, 1.99]),\n",
       " 'basic_average_shares': array([      0., 4199000., 4417000., 4611000., 4701000.]),\n",
       " 'diluted_average_shares': array([      0., 4232000., 4473000., 4701000., 4835000.]),\n",
       " 'total_operating_income_as_reported': array([20351000., 23678000., 22035000., 23316000., 17936000.]),\n",
       " 'total_expenses': array([55474000., 53991000., 49537000., 47604000., 44441000.]),\n",
       " 'net_income_from_continuing_and_discontinued_operation': array([21102000., 20899000., 21048000., 21053000.,  9601000.]),\n",
       " 'normalized_income': array([19859464., 19477902., 20045250., 21100859.,  8101600.]),\n",
       " 'interest_income': array([154000., 272000., 483000., 438000., 441000.]),\n",
       " 'interest_expense': array([611000., 629000., 489000., 468000., 646000.]),\n",
       " 'net_interest_income': array([-416000., -504000.,  484000.,  126000., -235000.]),\n",
       " 'ebit': array([24608000., 25707000., 24547000., 23785000., 20998000.]),\n",
       " 'ebitda': array([36329000.,        0.,        0.,        0.,        0.]),\n",
       " 'reconciled_cost_of_revenue': array([34320000., 34255000., 19199000., 18226000., 15740000.]),\n",
       " 'reconciled_depreciation': array([11721000., 12239000., 10826000.,  9085000.,  8129000.]),\n",
       " 'net_income_from_continuing_operation_net_minority_interest': array([21102000., 20899000., 21048000., 21053000.,  9601000.]),\n",
       " 'total_unusual_items_excluding_goodwill': array([1413000., 1706000., 1146000.,  -53000., 2499000.]),\n",
       " 'total_unusual_items': array([1413000., 1706000., 1146000.,  -53000., 2499000.]),\n",
       " 'normalized_ebitda': array([34916000., 36240000., 34227000., 32923000., 26628000.]),\n",
       " 'tax_rate_for_calcs': array([0., 0., 0., 0., 0.]),\n",
       " 'tax_effect_of_unusual_items': array([170464., 284902., 143250.,  -5141., 999600.])}"
      ]
     },
     "execution_count": 3,
     "metadata": {},
     "output_type": "execute_result"
    }
   ],
   "source": [
    "intel.income_statement['statement']"
   ]
  },
  {
   "cell_type": "code",
   "execution_count": 4,
   "id": "8488a4bf",
   "metadata": {},
   "outputs": [],
   "source": [
    "#amd = company('AMD', method = 'scrape')"
   ]
  },
  {
   "cell_type": "code",
   "execution_count": 5,
   "id": "578b0e2f",
   "metadata": {},
   "outputs": [],
   "source": [
    "#nvidia = company('NVDA', method = 'scrape')"
   ]
  },
  {
   "cell_type": "code",
   "execution_count": 6,
   "id": "a941fe0d",
   "metadata": {},
   "outputs": [],
   "source": [
    "#dell = company('DELL', method = 'scrape')"
   ]
  },
  {
   "cell_type": "code",
   "execution_count": 7,
   "id": "e8a269a0",
   "metadata": {},
   "outputs": [
    {
     "data": {
      "text/plain": [
       "array([0.08102047, 0.0793661 , 0.08545821, 0.09527439, 0.11908669])"
      ]
     },
     "execution_count": 7,
     "metadata": {},
     "output_type": "execute_result"
    }
   ],
   "source": [
    "intel.sga_percent"
   ]
  }
 ],
 "metadata": {
  "kernelspec": {
   "display_name": "financial-reporting",
   "language": "python",
   "name": "financial-reporting"
  },
  "language_info": {
   "codemirror_mode": {
    "name": "ipython",
    "version": 3
   },
   "file_extension": ".py",
   "mimetype": "text/x-python",
   "name": "python",
   "nbconvert_exporter": "python",
   "pygments_lexer": "ipython3",
   "version": "3.8.7"
  }
 },
 "nbformat": 4,
 "nbformat_minor": 5
}
