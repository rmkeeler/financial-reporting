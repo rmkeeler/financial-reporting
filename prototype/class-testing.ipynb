{
 "cells": [
  {
   "cell_type": "code",
   "execution_count": 3,
   "id": "1cee7322",
   "metadata": {},
   "outputs": [],
   "source": [
    "from definitions import WEBDRIVER_PATH, ASSET_PATH\n",
    "from modules.plotting import plot_companies\n",
    "from modules.classes import company\n",
    "from modules.forex import get_cpiu, get_inflation"
   ]
  },
  {
   "cell_type": "code",
   "execution_count": 4,
   "id": "a7f12874",
   "metadata": {},
   "outputs": [
    {
     "data": {
      "text/plain": [
       "0.051099661375219825"
      ]
     },
     "execution_count": 4,
     "metadata": {},
     "output_type": "execute_result"
    }
   ],
   "source": [
    "get_inflation(year = 2021)"
   ]
  },
  {
   "cell_type": "code",
   "execution_count": null,
   "id": "67acbc4f",
   "metadata": {},
   "outputs": [],
   "source": [
    "tech = ['INTC','TSM','AMD','NVDA','DELL','TXN','NATI','TSLA','QCOM','SPWR']"
   ]
  },
  {
   "cell_type": "code",
   "execution_count": null,
   "id": "d4b22aa6",
   "metadata": {},
   "outputs": [],
   "source": [
    "gaming = ['UBSFY','EA','ATVI','DEVO.L','NTDOY','SQNXF','CCOEY','NCBDF']"
   ]
  },
  {
   "cell_type": "code",
   "execution_count": null,
   "id": "20ff0d86",
   "metadata": {},
   "outputs": [],
   "source": [
    "intel = company('INTC', method = 'import')\n",
    "intel_normal = company('INTC', method = 'import')\n",
    "intel_normal.normalize_statements(reference_year = 2010)"
   ]
  },
  {
   "cell_type": "code",
   "execution_count": null,
   "id": "8b7ae59f",
   "metadata": {},
   "outputs": [],
   "source": [
    "intel.plot(['total_revenue'])"
   ]
  },
  {
   "cell_type": "code",
   "execution_count": null,
   "id": "265c303b",
   "metadata": {},
   "outputs": [],
   "source": [
    "plot_companies([intel, intel_normal], 'total_revenue').show();"
   ]
  },
  {
   "cell_type": "code",
   "execution_count": null,
   "id": "cd64d611",
   "metadata": {},
   "outputs": [],
   "source": [
    "dell = company('DELL', method = 'import')"
   ]
  },
  {
   "cell_type": "code",
   "execution_count": null,
   "id": "791b690c",
   "metadata": {},
   "outputs": [],
   "source": [
    "dell.plot(['total_revenue'])"
   ]
  },
  {
   "cell_type": "code",
   "execution_count": null,
   "id": "84cf205d",
   "metadata": {},
   "outputs": [],
   "source": [
    "dell.normalize_statements()"
   ]
  },
  {
   "cell_type": "code",
   "execution_count": null,
   "id": "b49cae68",
   "metadata": {},
   "outputs": [],
   "source": [
    "dell.plot(['total_revenue'])"
   ]
  },
  {
   "cell_type": "code",
   "execution_count": null,
   "id": "3e9525ba",
   "metadata": {},
   "outputs": [],
   "source": [
    "tech = intel + dell"
   ]
  }
 ],
 "metadata": {
  "kernelspec": {
   "display_name": "financial-reporting",
   "language": "python",
   "name": "financial-reporting"
  },
  "language_info": {
   "codemirror_mode": {
    "name": "ipython",
    "version": 3
   },
   "file_extension": ".py",
   "mimetype": "text/x-python",
   "name": "python",
   "nbconvert_exporter": "python",
   "pygments_lexer": "ipython3",
   "version": "3.8.7"
  }
 },
 "nbformat": 4,
 "nbformat_minor": 5
}
