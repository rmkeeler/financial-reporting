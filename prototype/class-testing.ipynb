{
 "cells": [
  {
   "cell_type": "code",
   "execution_count": 1,
   "id": "1cee7322",
   "metadata": {},
   "outputs": [],
   "source": [
    "from definitions import WEBDRIVER_PATH\n",
    "from modules.plotting import plot_companies\n",
    "from modules.classes import company\n",
    "import pandas as pd\n",
    "import re\n",
    "import numpy as np"
   ]
  },
  {
   "cell_type": "code",
   "execution_count": null,
   "id": "88d027f1",
   "metadata": {},
   "outputs": [],
   "source": [
    "# Conversion from euro necessary\n",
    "ubisoft = company('UBSFY', method = 'import')\n",
    "ubisoft.save_statements()"
   ]
  },
  {
   "cell_type": "code",
   "execution_count": null,
   "id": "86e5eed9",
   "metadata": {},
   "outputs": [],
   "source": [
    "ea = company('EA', method = 'import')\n",
    "ea.save_statements()"
   ]
  },
  {
   "cell_type": "code",
   "execution_count": null,
   "id": "84ce4092",
   "metadata": {},
   "outputs": [],
   "source": [
    "activision = company('ATVI', method = 'import')\n",
    "activision.save_statements()"
   ]
  },
  {
   "cell_type": "code",
   "execution_count": null,
   "id": "4676b85b",
   "metadata": {},
   "outputs": [],
   "source": [
    "devolver = company('DEVO.L', method = 'import')\n",
    "devolver.save_statements()"
   ]
  },
  {
   "cell_type": "code",
   "execution_count": null,
   "id": "36214d58",
   "metadata": {},
   "outputs": [],
   "source": [
    "# Conversion from yen necessary\n",
    "nintendo = company('NTDOY', method = 'import')\n",
    "nintendo.save_statements()"
   ]
  },
  {
   "cell_type": "code",
   "execution_count": null,
   "id": "8bb686a2",
   "metadata": {},
   "outputs": [],
   "source": [
    "# Conversion from yen necessary\n",
    "squareenix = company('SQNXF', method = 'import')\n",
    "squareenix.save_statements()"
   ]
  },
  {
   "cell_type": "code",
   "execution_count": null,
   "id": "9946589d",
   "metadata": {},
   "outputs": [],
   "source": [
    "# Conversion from yen necessary\n",
    "capcom = company('CCOEY', method = 'import')\n",
    "capcom.save_statements()"
   ]
  },
  {
   "cell_type": "code",
   "execution_count": null,
   "id": "6f9fa985",
   "metadata": {},
   "outputs": [],
   "source": [
    "# Conversion from yen necessary\n",
    "bandainamco = company('NCBDF', method = 'import')\n",
    "bandainamco.save_statements()"
   ]
  },
  {
   "cell_type": "code",
   "execution_count": 6,
   "id": "8bb7f1d0",
   "metadata": {},
   "outputs": [],
   "source": [
    "conversion = [['2019',1.5],['2020',1.6],['2021',1.4]]"
   ]
  },
  {
   "cell_type": "code",
   "execution_count": 16,
   "id": "4007dd5c",
   "metadata": {},
   "outputs": [
    {
     "data": {
      "text/plain": [
       "array([['2019', '1.5'],\n",
       "       ['2020', '1.6'],\n",
       "       ['2021', '1.4']], dtype='<U32')"
      ]
     },
     "execution_count": 16,
     "metadata": {},
     "output_type": "execute_result"
    }
   ],
   "source": [
    "conversion_array = np.asarray(conversion)\n",
    "conversion_filter = np.asarray(['2020','2021'])\n",
    "conversion_array"
   ]
  },
  {
   "cell_type": "code",
   "execution_count": 17,
   "id": "a7b4aadd",
   "metadata": {},
   "outputs": [
    {
     "data": {
      "text/plain": [
       "array([['2020', '1.6'],\n",
       "       ['2021', '1.4']], dtype='<U32')"
      ]
     },
     "execution_count": 17,
     "metadata": {},
     "output_type": "execute_result"
    }
   ],
   "source": [
    "mask = np.in1d(conversion_array[:,0], conversion_filter)\n",
    "conversion_array[mask]"
   ]
  }
 ],
 "metadata": {
  "kernelspec": {
   "display_name": "financial-reporting",
   "language": "python",
   "name": "financial-reporting"
  },
  "language_info": {
   "codemirror_mode": {
    "name": "ipython",
    "version": 3
   },
   "file_extension": ".py",
   "mimetype": "text/x-python",
   "name": "python",
   "nbconvert_exporter": "python",
   "pygments_lexer": "ipython3",
   "version": "3.8.7"
  }
 },
 "nbformat": 4,
 "nbformat_minor": 5
}
