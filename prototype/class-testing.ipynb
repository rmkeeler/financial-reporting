{
 "cells": [
  {
   "cell_type": "code",
   "execution_count": 1,
   "id": "1cee7322",
   "metadata": {},
   "outputs": [],
   "source": [
    "import os\n",
    "os.chdir('../')\n",
    "import sys\n",
    "from definitions import WEBDRIVER_PATH\n",
    "from modules.classes import company"
   ]
  },
  {
   "cell_type": "code",
   "execution_count": 2,
   "id": "abaf2e85",
   "metadata": {},
   "outputs": [
    {
     "data": {
      "text/plain": [
       "['C:\\\\users\\\\keele\\\\onedrive\\\\projects\\\\financial-reporting\\\\prototype',\n",
       " 'C:\\\\Users\\\\keele\\\\OneDrive\\\\Projects\\\\pyPackages',\n",
       " 'C:\\\\Users\\\\keele\\\\AppData\\\\Local\\\\Programs\\\\Python\\\\Python38\\\\python38.zip',\n",
       " 'C:\\\\Users\\\\keele\\\\AppData\\\\Local\\\\Programs\\\\Python\\\\Python38\\\\DLLs',\n",
       " 'C:\\\\Users\\\\keele\\\\AppData\\\\Local\\\\Programs\\\\Python\\\\Python38\\\\lib',\n",
       " 'C:\\\\Users\\\\keele\\\\AppData\\\\Local\\\\Programs\\\\Python\\\\Python38',\n",
       " 'C:\\\\users\\\\keele\\\\onedrive\\\\projects\\\\financial-reporting\\\\env',\n",
       " '',\n",
       " 'C:\\\\users\\\\keele\\\\onedrive\\\\projects\\\\financial-reporting\\\\env\\\\lib\\\\site-packages',\n",
       " 'c:\\\\users\\\\keele\\\\onedrive\\\\projects\\\\financial-reporting',\n",
       " 'C:\\\\users\\\\keele\\\\onedrive\\\\projects\\\\financial-reporting\\\\env\\\\lib\\\\site-packages\\\\win32',\n",
       " 'C:\\\\users\\\\keele\\\\onedrive\\\\projects\\\\financial-reporting\\\\env\\\\lib\\\\site-packages\\\\win32\\\\lib',\n",
       " 'C:\\\\users\\\\keele\\\\onedrive\\\\projects\\\\financial-reporting\\\\env\\\\lib\\\\site-packages\\\\Pythonwin',\n",
       " 'C:\\\\users\\\\keele\\\\onedrive\\\\projects\\\\financial-reporting\\\\env\\\\lib\\\\site-packages\\\\IPython\\\\extensions',\n",
       " 'C:\\\\Users\\\\keele\\\\.ipython',\n",
       " 'C:\\\\users\\\\keele\\\\onedrive\\\\projects\\\\financial-reporting\\\\webdriver\\\\']"
      ]
     },
     "execution_count": 2,
     "metadata": {},
     "output_type": "execute_result"
    }
   ],
   "source": [
    "sys.path"
   ]
  },
  {
   "cell_type": "code",
   "execution_count": 3,
   "id": "e677850b",
   "metadata": {},
   "outputs": [],
   "source": [
    "intel = company('INTC', ['income-statement'])"
   ]
  },
  {
   "cell_type": "code",
   "execution_count": 5,
   "id": "399a465c",
   "metadata": {},
   "outputs": [
    {
     "data": {
      "text/plain": [
       "array([0.5626577 , 0.56008322, 0.58556243, 0.6173357 , 0.62250442])"
      ]
     },
     "execution_count": 5,
     "metadata": {},
     "output_type": "execute_result"
    }
   ],
   "source": [
    "intel.gross_margin"
   ]
  },
  {
   "cell_type": "code",
   "execution_count": 6,
   "id": "49015f49",
   "metadata": {},
   "outputs": [
    {
     "data": {
      "text/plain": [
       "array([0.29309071, 0.3066254 , 0.3116515 , 0.32808266, 0.29190102])"
      ]
     },
     "execution_count": 6,
     "metadata": {},
     "output_type": "execute_result"
    }
   ],
   "source": [
    "intel.operating_margin"
   ]
  }
 ],
 "metadata": {
  "kernelspec": {
   "display_name": "financial-reporting",
   "language": "python",
   "name": "financial-reporting"
  },
  "language_info": {
   "codemirror_mode": {
    "name": "ipython",
    "version": 3
   },
   "file_extension": ".py",
   "mimetype": "text/x-python",
   "name": "python",
   "nbconvert_exporter": "python",
   "pygments_lexer": "ipython3",
   "version": "3.8.7"
  }
 },
 "nbformat": 4,
 "nbformat_minor": 5
}
