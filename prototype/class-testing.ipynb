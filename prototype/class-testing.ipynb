{
 "cells": [
  {
   "cell_type": "code",
   "execution_count": 1,
   "id": "1cee7322",
   "metadata": {},
   "outputs": [],
   "source": [
    "from modules.plotting import plot_companies\n",
    "from modules.classes import company\n",
    "from modules.files import get_available_tickers"
   ]
  },
  {
   "cell_type": "code",
   "execution_count": 2,
   "id": "a76d715d",
   "metadata": {},
   "outputs": [],
   "source": [
    "tickers = get_available_tickers()"
   ]
  },
  {
   "cell_type": "code",
   "execution_count": null,
   "id": "67acbc4f",
   "metadata": {},
   "outputs": [],
   "source": [
    "tech = ['INTC','TSM','AMD','NVDA','DELL','TXN','NATI','TSLA','QCOM','SPWR','SSUN.F']"
   ]
  },
  {
   "cell_type": "code",
   "execution_count": null,
   "id": "d4b22aa6",
   "metadata": {},
   "outputs": [],
   "source": [
    "gaming = ['UBSFY','EA','ATVI','DEVO.L','NTDOY','SQNXF','CCOEY','NCBDF']"
   ]
  },
  {
   "cell_type": "code",
   "execution_count": 7,
   "id": "3e9525ba",
   "metadata": {},
   "outputs": [],
   "source": [
    "samsung = company('SSUN.F', method = 'import')"
   ]
  },
  {
   "cell_type": "code",
   "execution_count": 8,
   "id": "3fbb7c0e",
   "metadata": {},
   "outputs": [
    {
     "data": {
      "text/plain": [
       "'KRW'"
      ]
     },
     "execution_count": 8,
     "metadata": {},
     "output_type": "execute_result"
    }
   ],
   "source": [
    "samsung.currency"
   ]
  },
  {
   "cell_type": "code",
   "execution_count": null,
   "id": "0d8f3b39",
   "metadata": {},
   "outputs": [],
   "source": [
    "samsung.plot(['total_revenue'])"
   ]
  },
  {
   "cell_type": "code",
   "execution_count": null,
   "id": "3c1b4ae2",
   "metadata": {},
   "outputs": [],
   "source": [
    "samsung.convert_currency('KRW','USD')"
   ]
  },
  {
   "cell_type": "code",
   "execution_count": null,
   "id": "b1567b36",
   "metadata": {},
   "outputs": [],
   "source": [
    "samsung_krw = company('SSUN.F', method = 'import')"
   ]
  },
  {
   "cell_type": "code",
   "execution_count": null,
   "id": "d43ed325",
   "metadata": {},
   "outputs": [],
   "source": [
    "plot_companies([samsung], 'total_revenue', currency = samsung.currency)"
   ]
  }
 ],
 "metadata": {
  "kernelspec": {
   "display_name": "financial-reporting",
   "language": "python",
   "name": "financial-reporting"
  },
  "language_info": {
   "codemirror_mode": {
    "name": "ipython",
    "version": 3
   },
   "file_extension": ".py",
   "mimetype": "text/x-python",
   "name": "python",
   "nbconvert_exporter": "python",
   "pygments_lexer": "ipython3",
   "version": "3.8.7"
  }
 },
 "nbformat": 4,
 "nbformat_minor": 5
}
