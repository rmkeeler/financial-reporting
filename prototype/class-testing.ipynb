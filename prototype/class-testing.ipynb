{
 "cells": [
  {
   "cell_type": "code",
   "execution_count": 1,
   "id": "1cee7322",
   "metadata": {},
   "outputs": [],
   "source": [
    "from definitions import WEBDRIVER_PATH\n",
    "from modules.classes import company\n",
    "import pandas as pd"
   ]
  },
  {
   "cell_type": "code",
   "execution_count": 2,
   "id": "e677850b",
   "metadata": {},
   "outputs": [],
   "source": [
    "intel = company('INTC', method = 'import')\n",
    "amd = company('AMD', method = 'import')"
   ]
  },
  {
   "cell_type": "code",
   "execution_count": 3,
   "id": "758d3291",
   "metadata": {},
   "outputs": [
    {
     "data": {
      "text/plain": [
       "{'is': {'year': ['ttm',\n",
       "   '12/31/2020',\n",
       "   '12/31/2019',\n",
       "   '12/31/2018',\n",
       "   '12/31/2017'],\n",
       "  'total_revenue': array([93326000., 87630000., 78696000., 77323000., 68090000.]),\n",
       "  'cost_of_revenue': array([42218000., 39671000., 33688000., 31139000., 27198000.]),\n",
       "  'gross_profit': array([51108000., 47959000., 45008000., 46184000., 40892000.]),\n",
       "  'operating_expense': array([25097000., 22714000., 21949000., 22489000., 22368000.]),\n",
       "  'operating_income': array([26011000., 25245000., 23059000., 23695000., 18524000.]),\n",
       "  'net_non_operating_interest_income_expense': array([-443000., -543000.,  405000.,   23000., -355000.]),\n",
       "  'other_income_expense': array([1441000., 1651000.,  966000.,  -71000., 2252000.]),\n",
       "  'pretax_income': array([27009000., 26353000., 24430000., 23647000., 20421000.]),\n",
       "  'tax_provision': array([ 1947000.,  2969000.,  3041000.,  2255000., 10770000.]),\n",
       "  'net_income_common_stockholders': array([25071000., 23389000., 21389000., 21390000.,  9644000.]),\n",
       "  'diluted_ni_available_to_com_stockholders': array([25068000., 23390000., 21389000., 21390000.,  9644000.]),\n",
       "  'basic_eps': array([0.  , 7.08, 5.08, 4.91, 2.08]),\n",
       "  'diluted_eps': array([0.  , 7.  , 5.01, 4.8 , 2.03]),\n",
       "  'basic_average_shares': array([      0., 5383000., 5508000., 5593000., 5653000.]),\n",
       "  'diluted_average_shares': array([      0., 5439000., 5593000., 5765000., 5874000.]),\n",
       "  'total_operating_income_as_reported': array([23362000., 25047000., 22666000., 23767000., 18140000.]),\n",
       "  'total_expenses': array([67315000., 62385000., 55637000., 53628000., 49566000.]),\n",
       "  'net_income_from_continuing_and_discontinued_operation': array([25071000., 23389000., 21389000., 21390000.,  9644000.]),\n",
       "  'normalized_income': array([23867884., 22007322., 20547583., 21446619.,  8151122.]),\n",
       "  'interest_income': array([154000., 280000., 498000., 456000., 447000.]),\n",
       "  'interest_expense': array([646000., 676000., 583000., 589000., 772000.]),\n",
       "  'net_interest_income': array([-443000., -543000.,  405000.,   23000., -355000.]),\n",
       "  'ebit': array([27655000., 27029000., 25013000., 24236000., 21193000.]),\n",
       "  'ebitda': array([39806000.,        0.,        0.,        0.,        0.]),\n",
       "  'reconciled_cost_of_revenue': array([42218000., 39671000., 23062000., 22254000., 19246000.]),\n",
       "  'reconciled_depreciation': array([12151000., 12593000., 11084000.,  9255000.,  8273000.]),\n",
       "  'net_income_from_continuing_operation_net_minority_interest': array([25071000., 23389000., 21389000., 21390000.,  9644000.]),\n",
       "  'total_unusual_items_excluding_goodwill': array([1359000., 1652000.,  970000.,  -65000., 2490000.]),\n",
       "  'total_unusual_items': array([1359000., 1652000.,  970000.,  -65000., 2490000.]),\n",
       "  'normalized_ebitda': array([38447000., 37970000., 35127000., 33556000., 26976000.]),\n",
       "  'tax_rate_for_calcs': array([0., 0., 0., 0., 0.]),\n",
       "  'tax_effect_of_unusual_items': array([155884., 270322., 128583.,  -8381., 997122.]),\n",
       "  'operating_revenue': array([93326000., 87630000., 78696000., 77323000., 68090000.]),\n",
       "  'selling_general_and_administrative': array([7702000., 7175000., 6900000., 7312000., 7985000.]),\n",
       "  'research_and_development': array([17403000., 15539000., 14909000., 14977000., 14258000.]),\n",
       "  'interest_income_non_operating': array([154000., 280000., 498000., 456000., 447000.]),\n",
       "  'interest_expense_non_operating': array([646000., 676000., 583000., 589000., 772000.]),\n",
       "  'earnings_from_equity_interest': array([      0., 1904000., 1091000., -125000., -229000.]),\n",
       "  'special_income_charges': array([-2830000.,  -555000.,  -691000.,  -364000., -1226000.]),\n",
       "  'other_non_operating_income_expenses': array([ 123000., -148000.,  486000.,  150000.,  -36000.]),\n",
       "  'net_income': array([25071000., 23389000., 21389000., 21390000.,  9644000.])},\n",
       " 'bs': {},\n",
       " 'cfs': {}}"
      ]
     },
     "execution_count": 3,
     "metadata": {},
     "output_type": "execute_result"
    }
   ],
   "source": [
    "intel + amd"
   ]
  },
  {
   "cell_type": "code",
   "execution_count": null,
   "id": "6a943ad4",
   "metadata": {},
   "outputs": [],
   "source": [
    "amd"
   ]
  }
 ],
 "metadata": {
  "kernelspec": {
   "display_name": "financial-reporting",
   "language": "python",
   "name": "financial-reporting"
  },
  "language_info": {
   "codemirror_mode": {
    "name": "ipython",
    "version": 3
   },
   "file_extension": ".py",
   "mimetype": "text/x-python",
   "name": "python",
   "nbconvert_exporter": "python",
   "pygments_lexer": "ipython3",
   "version": "3.8.5"
  }
 },
 "nbformat": 4,
 "nbformat_minor": 5
}
