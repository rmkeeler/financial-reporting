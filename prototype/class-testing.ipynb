{
 "cells": [
  {
   "cell_type": "code",
   "execution_count": 1,
   "id": "1cee7322",
   "metadata": {},
   "outputs": [],
   "source": [
    "from definitions import WEBDRIVER_PATH, ASSET_PATH\n",
    "from modules.plotting import plot_companies\n",
    "from modules.classes import company\n",
    "from modules.forex import get_cpiu, get_inflation\n",
    "from modules.cleaning import clean_numeric\n",
    "import re"
   ]
  },
  {
   "cell_type": "code",
   "execution_count": 2,
   "id": "61803c95",
   "metadata": {},
   "outputs": [
    {
     "data": {
      "text/plain": [
       "264590783000.0"
      ]
     },
     "execution_count": 2,
     "metadata": {},
     "output_type": "execute_result"
    }
   ],
   "source": [
    "clean_numeric('264,590,783,000')"
   ]
  },
  {
   "cell_type": "code",
   "execution_count": null,
   "id": "d68f835b",
   "metadata": {},
   "outputs": [],
   "source": [
    "re.sub('[A-Za-z]','','99.6k')"
   ]
  },
  {
   "cell_type": "code",
   "execution_count": null,
   "id": "a7f12874",
   "metadata": {},
   "outputs": [],
   "source": [
    "get_inflation(year = 2021)"
   ]
  },
  {
   "cell_type": "code",
   "execution_count": null,
   "id": "67acbc4f",
   "metadata": {},
   "outputs": [],
   "source": [
    "tech = ['INTC','TSM','AMD','NVDA','DELL','TXN','NATI','TSLA','QCOM','SPWR','SSUN.F']"
   ]
  },
  {
   "cell_type": "code",
   "execution_count": null,
   "id": "d4b22aa6",
   "metadata": {},
   "outputs": [],
   "source": [
    "gaming = ['UBSFY','EA','ATVI','DEVO.L','NTDOY','SQNXF','CCOEY','NCBDF']"
   ]
  },
  {
   "cell_type": "code",
   "execution_count": 3,
   "id": "3e9525ba",
   "metadata": {},
   "outputs": [
    {
     "name": "stdout",
     "output_type": "stream",
     "text": [
      "Getting is statement for SSUN.F...\n",
      "Creating web driver...\n",
      "Requesting statement DOM from Yahoo Finance...\n",
      "Parsing statement DOM...\n",
      "\n",
      "\n",
      "Getting bs statement for SSUN.F...\n",
      "Creating web driver...\n",
      "Requesting statement DOM from Yahoo Finance...\n",
      "Parsing statement DOM...\n",
      "\n",
      "\n",
      "Getting cfs statement for SSUN.F...\n",
      "Creating web driver...\n",
      "Requesting statement DOM from Yahoo Finance...\n",
      "Parsing statement DOM...\n",
      "\n",
      "\n"
     ]
    }
   ],
   "source": [
    "samsung = company('SSUN.F', method = 'scrape')"
   ]
  },
  {
   "cell_type": "code",
   "execution_count": 4,
   "id": "0d8f3b39",
   "metadata": {},
   "outputs": [
    {
     "name": "stdout",
     "output_type": "stream",
     "text": [
      "Statements to be saved: dict_keys(['is', 'bs', 'cfs'])\n"
     ]
    }
   ],
   "source": [
    "samsung.save_statements()"
   ]
  }
 ],
 "metadata": {
  "kernelspec": {
   "display_name": "financial-reporting",
   "language": "python",
   "name": "financial-reporting"
  },
  "language_info": {
   "codemirror_mode": {
    "name": "ipython",
    "version": 3
   },
   "file_extension": ".py",
   "mimetype": "text/x-python",
   "name": "python",
   "nbconvert_exporter": "python",
   "pygments_lexer": "ipython3",
   "version": "3.8.7"
  }
 },
 "nbformat": 4,
 "nbformat_minor": 5
}
