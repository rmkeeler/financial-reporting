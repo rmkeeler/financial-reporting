{
 "cells": [
  {
   "cell_type": "code",
   "execution_count": 1,
   "id": "1cee7322",
   "metadata": {},
   "outputs": [],
   "source": [
    "from definitions import WEBDRIVER_PATH\n",
    "from modules.classes import company\n",
    "import pandas as pd"
   ]
  },
  {
   "cell_type": "code",
   "execution_count": 2,
   "id": "e677850b",
   "metadata": {},
   "outputs": [
    {
     "name": "stdout",
     "output_type": "stream",
     "text": [
      "Getting income statement for INTC...\n",
      "Creating web driver...\n",
      "Requesting statement DOM from Yahoo Finance...\n",
      "Parsing statement DOM...\n",
      "\n",
      "\n",
      "Getting balance sheet for INTC...\n",
      "Creating web driver...\n",
      "Requesting statement DOM from Yahoo Finance...\n",
      "Getting balance sheet. No row expansions.\n",
      "Parsing statement DOM...\n",
      "\n",
      "\n",
      "Getting cash flow statement for INTC...\n",
      "Creating web driver...\n",
      "Requesting statement DOM from Yahoo Finance...\n",
      "Getting cash flow. No row expansions.\n",
      "Parsing statement DOM...\n",
      "\n",
      "\n"
     ]
    }
   ],
   "source": [
    "intel = company('INTC')"
   ]
  },
  {
   "cell_type": "code",
   "execution_count": 4,
   "id": "d28ae774",
   "metadata": {},
   "outputs": [
    {
     "name": "stdout",
     "output_type": "stream",
     "text": [
      "Getting income statement for DELL...\n",
      "Creating web driver...\n",
      "Requesting statement DOM from Yahoo Finance...\n",
      "Parsing statement DOM...\n",
      "\n",
      "\n",
      "Getting balance sheet for DELL...\n",
      "Creating web driver...\n",
      "Requesting statement DOM from Yahoo Finance...\n",
      "Getting balance sheet. No row expansions.\n",
      "Parsing statement DOM...\n",
      "\n",
      "\n",
      "Getting cash flow statement for DELL...\n",
      "Creating web driver...\n",
      "Requesting statement DOM from Yahoo Finance...\n",
      "Getting cash flow. No row expansions.\n",
      "Parsing statement DOM...\n",
      "\n",
      "\n"
     ]
    }
   ],
   "source": [
    "dell = company('DELL')"
   ]
  },
  {
   "cell_type": "code",
   "execution_count": 5,
   "id": "01380a9c",
   "metadata": {},
   "outputs": [
    {
     "name": "stdout",
     "output_type": "stream",
     "text": [
      "Getting income statement for NVDA...\n",
      "Creating web driver...\n",
      "Requesting statement DOM from Yahoo Finance...\n",
      "Parsing statement DOM...\n",
      "\n",
      "\n",
      "Getting balance sheet for NVDA...\n",
      "Creating web driver...\n",
      "Requesting statement DOM from Yahoo Finance...\n",
      "Getting balance sheet. No row expansions.\n",
      "Parsing statement DOM...\n",
      "\n",
      "\n",
      "Getting cash flow statement for NVDA...\n",
      "Creating web driver...\n",
      "Requesting statement DOM from Yahoo Finance...\n",
      "Getting cash flow. No row expansions.\n",
      "Parsing statement DOM...\n",
      "\n",
      "\n"
     ]
    }
   ],
   "source": [
    "nvidia = company('NVDA')"
   ]
  },
  {
   "cell_type": "code",
   "execution_count": 6,
   "id": "beae1750",
   "metadata": {},
   "outputs": [
    {
     "name": "stdout",
     "output_type": "stream",
     "text": [
      "Getting income statement for AMD...\n",
      "Creating web driver...\n",
      "Requesting statement DOM from Yahoo Finance...\n",
      "Parsing statement DOM...\n",
      "\n",
      "\n",
      "Getting balance sheet for AMD...\n",
      "Creating web driver...\n",
      "Requesting statement DOM from Yahoo Finance...\n",
      "Getting balance sheet. No row expansions.\n",
      "Parsing statement DOM...\n",
      "\n",
      "\n",
      "Getting cash flow statement for AMD...\n",
      "Creating web driver...\n",
      "Requesting statement DOM from Yahoo Finance...\n",
      "Getting cash flow. No row expansions.\n",
      "Parsing statement DOM...\n",
      "\n",
      "\n"
     ]
    }
   ],
   "source": [
    "amd = company('AMD')"
   ]
  },
  {
   "cell_type": "code",
   "execution_count": 3,
   "id": "1ecfac1e",
   "metadata": {},
   "outputs": [
    {
     "name": "stdout",
     "output_type": "stream",
     "text": [
      "Statements to be saved: ['is', 'bs', 'cfs']\n"
     ]
    }
   ],
   "source": [
    "intel.save_statements()"
   ]
  },
  {
   "cell_type": "code",
   "execution_count": 7,
   "id": "e950c89a",
   "metadata": {},
   "outputs": [
    {
     "name": "stdout",
     "output_type": "stream",
     "text": [
      "Statements to be saved: ['is', 'bs', 'cfs']\n"
     ]
    }
   ],
   "source": [
    "dell.save_statements()"
   ]
  },
  {
   "cell_type": "code",
   "execution_count": 8,
   "id": "e558a328",
   "metadata": {},
   "outputs": [
    {
     "name": "stdout",
     "output_type": "stream",
     "text": [
      "Statements to be saved: ['is', 'bs', 'cfs']\n"
     ]
    }
   ],
   "source": [
    "nvidia.save_statements()"
   ]
  },
  {
   "cell_type": "code",
   "execution_count": 9,
   "id": "1c2cdf52",
   "metadata": {},
   "outputs": [
    {
     "name": "stdout",
     "output_type": "stream",
     "text": [
      "Statements to be saved: ['is', 'bs', 'cfs']\n"
     ]
    }
   ],
   "source": [
    "amd.save_statements()"
   ]
  },
  {
   "cell_type": "code",
   "execution_count": null,
   "id": "090396fc",
   "metadata": {},
   "outputs": [],
   "source": [
    "intel.contained_statements"
   ]
  }
 ],
 "metadata": {
  "kernelspec": {
   "display_name": "financial-reporting",
   "language": "python",
   "name": "financial-reporting"
  },
  "language_info": {
   "codemirror_mode": {
    "name": "ipython",
    "version": 3
   },
   "file_extension": ".py",
   "mimetype": "text/x-python",
   "name": "python",
   "nbconvert_exporter": "python",
   "pygments_lexer": "ipython3",
   "version": "3.8.7"
  }
 },
 "nbformat": 4,
 "nbformat_minor": 5
}
