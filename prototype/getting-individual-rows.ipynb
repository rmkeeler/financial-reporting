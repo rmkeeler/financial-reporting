{
 "cells": [
  {
   "cell_type": "code",
   "execution_count": 30,
   "id": "12e08023",
   "metadata": {},
   "outputs": [],
   "source": [
    "import modules.functions_scraping as fs\n",
    "from selenium.webdriver.common.by import By\n",
    "from bs4 import BeautifulSoup\n",
    "import re"
   ]
  },
  {
   "cell_type": "code",
   "execution_count": 2,
   "id": "bb7bd278",
   "metadata": {},
   "outputs": [
    {
     "name": "stdout",
     "output_type": "stream",
     "text": [
      "Creating web driver...\n"
     ]
    }
   ],
   "source": [
    "driver = fs.create_webdriver()"
   ]
  },
  {
   "cell_type": "code",
   "execution_count": 3,
   "id": "7a56ddd0",
   "metadata": {},
   "outputs": [],
   "source": [
    "driver.get('https://finance.yahoo.com/quote/intc/financials/')"
   ]
  },
  {
   "cell_type": "code",
   "execution_count": 7,
   "id": "509b4520",
   "metadata": {},
   "outputs": [],
   "source": [
    "button = driver.find_element(By.XPATH, '//button[contains(.,\"Quarterly\")]')"
   ]
  },
  {
   "cell_type": "code",
   "execution_count": 8,
   "id": "932d0913",
   "metadata": {},
   "outputs": [],
   "source": [
    "button.click()"
   ]
  },
  {
   "cell_type": "code",
   "execution_count": 10,
   "id": "77ff0659",
   "metadata": {},
   "outputs": [],
   "source": [
    "soup = BeautifulSoup(driver.page_source, 'lxml')"
   ]
  },
  {
   "cell_type": "code",
   "execution_count": 28,
   "id": "8d0f30f6",
   "metadata": {},
   "outputs": [],
   "source": [
    "shares_row = soup.find('div',{'title':'Basic Average Shares'}).parent.parent.findChildren('div')"
   ]
  },
  {
   "cell_type": "code",
   "execution_count": 33,
   "id": "84f98514",
   "metadata": {},
   "outputs": [],
   "source": [
    "value = 'Nope'\n",
    "for row in shares_row:\n",
    "    if value == 'Nope':\n",
    "        value = row.text if re.search('^[0-9]', row.text) else 'Nope'"
   ]
  },
  {
   "cell_type": "code",
   "execution_count": 34,
   "id": "b39264e8",
   "metadata": {},
   "outputs": [
    {
     "data": {
      "text/plain": [
       "'4,061,000'"
      ]
     },
     "execution_count": 34,
     "metadata": {},
     "output_type": "execute_result"
    }
   ],
   "source": [
    "value"
   ]
  }
 ],
 "metadata": {
  "kernelspec": {
   "display_name": "financial-reporting",
   "language": "python",
   "name": "financial-reporting"
  },
  "language_info": {
   "codemirror_mode": {
    "name": "ipython",
    "version": 3
   },
   "file_extension": ".py",
   "mimetype": "text/x-python",
   "name": "python",
   "nbconvert_exporter": "python",
   "pygments_lexer": "ipython3",
   "version": "3.8.5"
  }
 },
 "nbformat": 4,
 "nbformat_minor": 5
}
