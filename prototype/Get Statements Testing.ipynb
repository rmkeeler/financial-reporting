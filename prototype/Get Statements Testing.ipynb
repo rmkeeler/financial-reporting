{
 "cells": [
  {
   "cell_type": "code",
   "execution_count": 1,
   "id": "bc3c872e",
   "metadata": {},
   "outputs": [],
   "source": [
    "from definitions import WEBDRIVER_PATH\n",
    "import modules.functions_scraping as fs\n",
    "from selenium import webdriver\n",
    "from selenium.webdriver.chrome.service import Service\n",
    "from selenium.webdriver.common.by import By"
   ]
  },
  {
   "cell_type": "code",
   "execution_count": 2,
   "id": "1e5483a3",
   "metadata": {},
   "outputs": [
    {
     "name": "stdout",
     "output_type": "stream",
     "text": [
      "Creating web driver...\n"
     ]
    }
   ],
   "source": [
    "driver = fs.create_webdriver()"
   ]
  },
  {
   "cell_type": "code",
   "execution_count": 3,
   "id": "174649e1",
   "metadata": {},
   "outputs": [],
   "source": [
    "#driver.get('https://finance.yahoo.com/quote/INTC/balance-sheet?p=INTC')"
   ]
  },
  {
   "cell_type": "code",
   "execution_count": 4,
   "id": "aaa14a22",
   "metadata": {},
   "outputs": [],
   "source": [
    "#buttons = driver.find_elements(By.XPATH, '//div[@data-test=\"fin-row\"]//*[local-name()=\"svg\" and @data-icon=\"caret-right\"]')"
   ]
  },
  {
   "cell_type": "code",
   "execution_count": 5,
   "id": "35320989",
   "metadata": {},
   "outputs": [],
   "source": [
    "#for button in buttons:\n",
    "#    button.click()"
   ]
  },
  {
   "cell_type": "code",
   "execution_count": 6,
   "id": "cef2bbd4",
   "metadata": {},
   "outputs": [
    {
     "name": "stdout",
     "output_type": "stream",
     "text": [
      "Requesting statement DOM from Yahoo Finance...\n"
     ]
    }
   ],
   "source": [
    "heading, rows = fs.get_statement_rows(driver, 'INTC', 'bs')"
   ]
  },
  {
   "cell_type": "code",
   "execution_count": 7,
   "id": "2bb6d12f",
   "metadata": {},
   "outputs": [
    {
     "name": "stdout",
     "output_type": "stream",
     "text": [
      "Parsing statement DOM...\n"
     ]
    },
    {
     "data": {
      "text/plain": [
       "{'lookup': {'total_assets': ['current_assets',\n",
       "   'cash',\n",
       "   '_cash_equivalents_and_short_term_investments',\n",
       "   'receivables',\n",
       "   'inventory',\n",
       "   'assets_held_for_sale_current',\n",
       "   'other_current_assets',\n",
       "   'total_non',\n",
       "   'current_assets',\n",
       "   'net_ppe',\n",
       "   'goodwill_and_other_intangible_assets',\n",
       "   'investments_and_advances',\n",
       "   'financial_assets',\n",
       "   'non_current_accounts_receivable',\n",
       "   'non_current_note_receivables',\n",
       "   'non_current_deferred_assets',\n",
       "   'non_current_prepaid_assets',\n",
       "   'other_non_current_assets'],\n",
       "  'current_assets': ['cash',\n",
       "   '_cash_equivalents_and_short_term_investments',\n",
       "   'receivables',\n",
       "   'inventory',\n",
       "   'assets_held_for_sale_current',\n",
       "   'other_current_assets'],\n",
       "  'total_non-current_assets': ['current_assets',\n",
       "   'net_ppe',\n",
       "   'goodwill_and_other_intangible_assets',\n",
       "   'investments_and_advances',\n",
       "   'financial_assets',\n",
       "   'non_current_accounts_receivable',\n",
       "   'non_current_note_receivables',\n",
       "   'non_current_deferred_assets',\n",
       "   'non_current_prepaid_assets',\n",
       "   'other_non_current_assets'],\n",
       "  'total_liabilities_net_minority_interest': ['current_liabilities',\n",
       "   'payables_and_accrued_expenses',\n",
       "   'pension_and_other_post_retirement_benefit_plans_current',\n",
       "   'current_debt_and_capital_lease_obligation',\n",
       "   'current_deferred_liabilities',\n",
       "   'total_non_current_liabilities_net_minority_interest',\n",
       "   'long_term_debt_and_capital_lease_obligation',\n",
       "   'non_current_deferred_liabilities',\n",
       "   'tradeand_other_payables_non_current',\n",
       "   'preferred_securities_outside_stock_equity',\n",
       "   'other_non_current_liabilities'],\n",
       "  'current_liabilities': ['payables_and_accrued_expenses',\n",
       "   'pension_and_other_post_retirement_benefit_plans_current',\n",
       "   'current_debt_and_capital_lease_obligation',\n",
       "   'current_deferred_liabilities'],\n",
       "  'total_non_current_liabilities_net_minority_interest': ['long_term_debt_and_capital_lease_obligation',\n",
       "   'non_current_deferred_liabilities',\n",
       "   'tradeand_other_payables_non_current',\n",
       "   'preferred_securities_outside_stock_equity',\n",
       "   'other_non_current_liabilities'],\n",
       "  'total_equity_gross_minority_interest': [\"stockholders'_equity\",\n",
       "   'capital_stock',\n",
       "   'retained_earnings',\n",
       "   'gains_losses_not_affecting_retained_earnings',\n",
       "   'other_equity_interest'],\n",
       "  \"stockholders'_equity\": ['capital_stock',\n",
       "   'retained_earnings',\n",
       "   'gains_losses_not_affecting_retained_earnings',\n",
       "   'other_equity_interest']},\n",
       " 'statement': {'year': array(['12/31/2020', '12/31/2019', '12/31/2018', '12/31/2017'],\n",
       "        dtype='<U10'),\n",
       "  'cash,_cash_equivalents_and_short_term_investments': array([23895000., 13123000., 11650000., 14002000.]),\n",
       "  'receivables': array([6782000., 7659000., 6722000., 5607000.]),\n",
       "  'inventory': array([8427000., 8744000., 7253000., 6983000.]),\n",
       "  'assets_held_for_sale_current': array([5400000.,       0.,       0.,       0.]),\n",
       "  'other_current_assets': array([2745000., 1713000., 3162000., 2908000.]),\n",
       "  'net_ppe': array([56584000., 55386000., 48976000., 41109000.]),\n",
       "  'goodwill_and_other_intangible_assets': array([35997000., 37103000., 36349000., 37134000.]),\n",
       "  'investments_and_advances': array([ 7344000.,  7243000.,  9430000., 12404000.]),\n",
       "  'financial_assets': array([1550000.,       0.,       0.,       0.]),\n",
       "  'non_current_accounts_receivable': array([     0., 554000., 479000.,      0.]),\n",
       "  'non_current_note_receivables': array([     0.,      0.,      0., 860000.]),\n",
       "  'non_current_deferred_assets': array([1232000., 1209000., 1122000.,  840000.]),\n",
       "  'non_current_prepaid_assets': array([1502000., 1641000., 1507000.,  714000.]),\n",
       "  'other_non_current_assets': array([1633000., 2149000., 1313000.,  688000.]),\n",
       "  'payables_and_accrued_expenses': array([18251000., 14764000., 11743000., 10463000.]),\n",
       "  'pension_and_other_post_retirement_benefit_plans_current': array([3999000., 3853000., 3622000., 3526000.]),\n",
       "  'current_debt_and_capital_lease_obligation': array([2504000., 3693000., 1261000., 1776000.]),\n",
       "  'current_deferred_liabilities': array([      0.,       0.,       0., 1656000.]),\n",
       "  'long_term_debt_and_capital_lease_obligation': array([33897000., 25308000., 25098000., 25037000.]),\n",
       "  'non_current_deferred_liabilities': array([5210000., 3412000., 3714000., 3046000.]),\n",
       "  'tradeand_other_payables_non_current': array([4578000., 4919000., 4897000.,       0.]),\n",
       "  'preferred_securities_outside_stock_equity': array([     0., 155000., 419000., 866000.]),\n",
       "  'other_non_current_liabilities': array([3614000., 2916000., 2646000., 7860000.]),\n",
       "  'capital_stock': array([25556000., 25261000., 25365000., 26074000.]),\n",
       "  'retained_earnings': array([56233000., 53523000., 50172000., 42083000.]),\n",
       "  'gains_losses_not_affecting_retained_earnings': array([ -751000., -1280000.,  -974000.,   862000.]),\n",
       "  'other_equity_interest': array([     0., 155000., 419000., 866000.]),\n",
       "  'total_capitalization': array([1.14935e+08, 1.02812e+08, 9.96610e+07, 9.40560e+07]),\n",
       "  'common_stock_equity': array([81038000., 77504000., 74563000., 69019000.]),\n",
       "  'net_tangible_assets': array([45041000., 40401000., 38214000., 31885000.]),\n",
       "  'working_capital': array([22495000.,  8929000., 12161000., 12079000.]),\n",
       "  'invested_capital': array([1.17439e+08, 1.06505e+08, 1.00922e+08, 9.58320e+07]),\n",
       "  'tangible_book_value': array([45041000., 40401000., 38214000., 31885000.]),\n",
       "  'total_debt': array([36401000., 29001000., 26359000., 26813000.]),\n",
       "  'net_debt': array([30536000., 24807000., 23340000., 23380000.]),\n",
       "  'share_issued': array([4062000., 4290000., 4516000., 4687000.]),\n",
       "  'ordinary_shares_number': array([4062000., 4290000., 4516000., 4687000.])}}"
      ]
     },
     "execution_count": 7,
     "metadata": {},
     "output_type": "execute_result"
    }
   ],
   "source": [
    "fs.dictify_statement(heading, rows)"
   ]
  },
  {
   "cell_type": "code",
   "execution_count": 8,
   "id": "738c6673",
   "metadata": {},
   "outputs": [
    {
     "name": "stdout",
     "output_type": "stream",
     "text": [
      "0\n",
      "1\n"
     ]
    }
   ],
   "source": [
    "for i in range(2):\n",
    "    print(i)"
   ]
  }
 ],
 "metadata": {
  "kernelspec": {
   "display_name": "financial-reporting",
   "language": "python",
   "name": "financial-reporting"
  },
  "language_info": {
   "codemirror_mode": {
    "name": "ipython",
    "version": 3
   },
   "file_extension": ".py",
   "mimetype": "text/x-python",
   "name": "python",
   "nbconvert_exporter": "python",
   "pygments_lexer": "ipython3",
   "version": "3.8.7"
  }
 },
 "nbformat": 4,
 "nbformat_minor": 5
}
