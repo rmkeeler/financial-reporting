{
 "cells": [
  {
   "cell_type": "code",
   "execution_count": 1,
   "id": "bc3c872e",
   "metadata": {},
   "outputs": [],
   "source": [
    "from definitions import WEBDRIVER_PATH\n",
    "import modules.functions_scraping as fs\n",
    "from selenium import webdriver\n",
    "from selenium.webdriver.chrome.service import Service\n",
    "from selenium.webdriver.common.by import By\n",
    "import re\n",
    "from bs4 import BeautifulSoup\n",
    "from lxml import etree"
   ]
  },
  {
   "cell_type": "code",
   "execution_count": 2,
   "id": "1e5483a3",
   "metadata": {},
   "outputs": [
    {
     "name": "stdout",
     "output_type": "stream",
     "text": [
      "Creating web driver...\n"
     ]
    }
   ],
   "source": [
    "driver = fs.create_webdriver()"
   ]
  },
  {
   "cell_type": "code",
   "execution_count": 3,
   "id": "174649e1",
   "metadata": {},
   "outputs": [],
   "source": [
    "driver.get('https://finance.yahoo.com/quote/INTC/balance-sheet?p=INTC')"
   ]
  },
  {
   "cell_type": "code",
   "execution_count": 4,
   "id": "8652dbd6",
   "metadata": {},
   "outputs": [
    {
     "data": {
      "text/plain": [
       "[<selenium.webdriver.remote.webelement.WebElement (session=\"df5bb73360548904ed0e13b04c831201\", element=\"da93936f-898d-4ede-b6a9-de7462fb13bf\")>,\n",
       " <selenium.webdriver.remote.webelement.WebElement (session=\"df5bb73360548904ed0e13b04c831201\", element=\"a2ddc653-7e8c-49ed-af3b-480637f11617\")>,\n",
       " <selenium.webdriver.remote.webelement.WebElement (session=\"df5bb73360548904ed0e13b04c831201\", element=\"81fab52d-6b30-42fb-a353-5b4794ac598b\")>]"
      ]
     },
     "execution_count": 4,
     "metadata": {},
     "output_type": "execute_result"
    }
   ],
   "source": [
    "buttons = driver.find_elements(By.XPATH, '//div[@data-test=\"fin-row\"]//*[local-name()=\"svg\" and @data-icon=\"caret-right\"]')\n",
    "buttons"
   ]
  },
  {
   "cell_type": "code",
   "execution_count": 5,
   "id": "e48f7787",
   "metadata": {},
   "outputs": [],
   "source": [
    "buttons[0].click()"
   ]
  },
  {
   "cell_type": "code",
   "execution_count": 6,
   "id": "87081e1d",
   "metadata": {},
   "outputs": [],
   "source": [
    "soup = BeautifulSoup(driver.page_source, 'lxml')"
   ]
  },
  {
   "cell_type": "code",
   "execution_count": 34,
   "id": "45e75ca4",
   "metadata": {},
   "outputs": [],
   "source": [
    "expanded_row = soup.find_all('div',{'class':'rw-expnded'})[0]\n",
    "grouping_list = []\n",
    "for x in expanded_row:\n",
    "    grouping_list.append(re.sub('[0-9]+','|',re.sub(',','',x.text)).rsplit('|',1)[0].split('|'))"
   ]
  },
  {
   "cell_type": "code",
   "execution_count": 37,
   "id": "38877401",
   "metadata": {},
   "outputs": [
    {
     "data": {
      "text/plain": [
       "{'Total Assets': ['Current Assets', 'Total non-current assets']}"
      ]
     },
     "execution_count": 37,
     "metadata": {},
     "output_type": "execute_result"
    }
   ],
   "source": [
    "grouping_dict = dict()\n",
    "grouping_dict[grouping_list[0][0]] = grouping_list[1]\n",
    "grouping_dict"
   ]
  },
  {
   "cell_type": "code",
   "execution_count": null,
   "id": "250cd527",
   "metadata": {},
   "outputs": [],
   "source": [
    "rows, soup = fs.expand_statement_rows(driver, levels = 3)"
   ]
  },
  {
   "cell_type": "code",
   "execution_count": null,
   "id": "7e733e19",
   "metadata": {},
   "outputs": [],
   "source": [
    "soup.find_all('div',{'data-test':'fin-row'})"
   ]
  },
  {
   "cell_type": "code",
   "execution_count": null,
   "id": "cef2bbd4",
   "metadata": {},
   "outputs": [],
   "source": [
    "heading, rows = fs.get_statement_rows(driver, 'INTC', 'bs')"
   ]
  },
  {
   "cell_type": "code",
   "execution_count": null,
   "id": "2bb6d12f",
   "metadata": {},
   "outputs": [],
   "source": [
    "fs.dictify_statement(heading, rows)"
   ]
  },
  {
   "cell_type": "code",
   "execution_count": null,
   "id": "e742950c",
   "metadata": {},
   "outputs": [],
   "source": [
    "#tree = etree.HTML(str(soup))"
   ]
  },
  {
   "cell_type": "code",
   "execution_count": null,
   "id": "4dc9bf64",
   "metadata": {},
   "outputs": [],
   "source": [
    "#for x in tree.xpath('//div[@title=\"Total Assets\"]//following-sibling::div'):\n",
    "#    print(x.attrib)"
   ]
  }
 ],
 "metadata": {
  "kernelspec": {
   "display_name": "financial-reporting",
   "language": "python",
   "name": "financial-reporting"
  },
  "language_info": {
   "codemirror_mode": {
    "name": "ipython",
    "version": 3
   },
   "file_extension": ".py",
   "mimetype": "text/x-python",
   "name": "python",
   "nbconvert_exporter": "python",
   "pygments_lexer": "ipython3",
   "version": "3.8.7"
  }
 },
 "nbformat": 4,
 "nbformat_minor": 5
}
