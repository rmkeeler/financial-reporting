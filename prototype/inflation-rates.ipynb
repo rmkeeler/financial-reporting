{
 "cells": [
  {
   "cell_type": "code",
   "execution_count": 1,
   "id": "e6d4799e",
   "metadata": {},
   "outputs": [],
   "source": [
    "import requests as r\n",
    "import pandas as pd\n",
    "import csv\n",
    "\n",
    "from modules.forex import get_cpiu"
   ]
  },
  {
   "cell_type": "code",
   "execution_count": null,
   "id": "ec8d5d9a",
   "metadata": {},
   "outputs": [],
   "source": [
    "response = r.get('https://download.bls.gov/pub/time.series/cu/cu.data.1.AllItems')"
   ]
  },
  {
   "cell_type": "code",
   "execution_count": null,
   "id": "087fb67d",
   "metadata": {},
   "outputs": [],
   "source": [
    "data = response.text.splitlines()"
   ]
  },
  {
   "cell_type": "code",
   "execution_count": null,
   "id": "5998c1aa",
   "metadata": {},
   "outputs": [],
   "source": [
    "dataset = []\n",
    "for line in csv.reader(data, delimiter = '\\t'):\n",
    "    dataset.append([x.strip() for x in line])"
   ]
  },
  {
   "cell_type": "code",
   "execution_count": null,
   "id": "3c0ab5c1",
   "metadata": {},
   "outputs": [],
   "source": [
    "dataset"
   ]
  },
  {
   "cell_type": "code",
   "execution_count": null,
   "id": "73bc17d3",
   "metadata": {},
   "outputs": [],
   "source": [
    "for i, x in enumerate(dataset):\n",
    "    dataset[i] = [x.strip() for x in dataset[i]]"
   ]
  },
  {
   "cell_type": "code",
   "execution_count": null,
   "id": "fdd94e50",
   "metadata": {},
   "outputs": [],
   "source": [
    "dataset_filterd = [x for x in dataset if x[0].endswith('SA0') and x[2] == 'M01']"
   ]
  },
  {
   "cell_type": "code",
   "execution_count": null,
   "id": "ca69b78d",
   "metadata": {},
   "outputs": [],
   "source": [
    "dataset_filterd"
   ]
  },
  {
   "cell_type": "code",
   "execution_count": null,
   "id": "e85c67f5",
   "metadata": {},
   "outputs": [],
   "source": [
    "df = pd.DataFrame(dataset)"
   ]
  },
  {
   "cell_type": "code",
   "execution_count": null,
   "id": "be513c23",
   "metadata": {},
   "outputs": [],
   "source": [
    "df.columns = df.iloc[0]\n",
    "df = df[1:]"
   ]
  },
  {
   "cell_type": "code",
   "execution_count": null,
   "id": "d3fd56aa",
   "metadata": {},
   "outputs": [],
   "source": [
    "df.head()"
   ]
  },
  {
   "cell_type": "code",
   "execution_count": 3,
   "id": "47f3625c",
   "metadata": {},
   "outputs": [
    {
     "data": {
      "text/plain": [
       "287.634"
      ]
     },
     "execution_count": 3,
     "metadata": {},
     "output_type": "execute_result"
    }
   ],
   "source": [
    "get_cpiu()['2021']"
   ]
  },
  {
   "cell_type": "code",
   "execution_count": null,
   "id": "cf8783bb",
   "metadata": {},
   "outputs": [],
   "source": []
  }
 ],
 "metadata": {
  "kernelspec": {
   "display_name": "financial-reporting",
   "language": "python",
   "name": "financial-reporting"
  },
  "language_info": {
   "codemirror_mode": {
    "name": "ipython",
    "version": 3
   },
   "file_extension": ".py",
   "mimetype": "text/x-python",
   "name": "python",
   "nbconvert_exporter": "python",
   "pygments_lexer": "ipython3",
   "version": "3.8.7"
  }
 },
 "nbformat": 4,
 "nbformat_minor": 5
}
