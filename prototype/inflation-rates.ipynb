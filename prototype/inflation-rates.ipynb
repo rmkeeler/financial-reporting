{
 "cells": [
  {
   "cell_type": "code",
   "execution_count": 1,
   "id": "e6d4799e",
   "metadata": {},
   "outputs": [],
   "source": [
    "import requests as r\n",
    "import pandas as pd\n",
    "import csv\n",
    "\n",
    "from modules.forex import get_cpiu, get_inflation, get_cpiu_items, get_cpiu_sources, parse_bls_report"
   ]
  },
  {
   "cell_type": "code",
   "execution_count": 4,
   "id": "5290cc89",
   "metadata": {},
   "outputs": [
    {
     "data": {
      "text/plain": [
       "{'1987M01': 111.4,\n",
       " '1987M02': 111.8,\n",
       " '1987M03': 112.2,\n",
       " '1987M04': 112.7,\n",
       " '1987M05': 113.0,\n",
       " '1987M06': 113.5,\n",
       " '1987M07': 113.8,\n",
       " '1987M08': 114.3,\n",
       " '1987M09': 114.7,\n",
       " '1987M10': 115.0,\n",
       " '1987M11': 115.4,\n",
       " '1987M12': 115.6}"
      ]
     },
     "execution_count": 4,
     "metadata": {},
     "output_type": "execute_result"
    }
   ],
   "source": [
    "get_cpiu(year = 1987)"
   ]
  }
 ],
 "metadata": {
  "kernelspec": {
   "display_name": "financial-reporting",
   "language": "python",
   "name": "financial-reporting"
  },
  "language_info": {
   "codemirror_mode": {
    "name": "ipython",
    "version": 3
   },
   "file_extension": ".py",
   "mimetype": "text/x-python",
   "name": "python",
   "nbconvert_exporter": "python",
   "pygments_lexer": "ipython3",
   "version": "3.8.7"
  }
 },
 "nbformat": 4,
 "nbformat_minor": 5
}
