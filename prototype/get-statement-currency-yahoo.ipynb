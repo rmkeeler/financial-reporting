{
 "cells": [
  {
   "cell_type": "code",
   "execution_count": 19,
   "id": "fdec1ffd",
   "metadata": {},
   "outputs": [],
   "source": [
    "from bs4 import BeautifulSoup\n",
    "import requests as r\n",
    "from modules.scraping import create_webdriver\n",
    "import re"
   ]
  },
  {
   "cell_type": "code",
   "execution_count": 9,
   "id": "e9e496a2",
   "metadata": {},
   "outputs": [
    {
     "name": "stdout",
     "output_type": "stream",
     "text": [
      "Creating web driver...\n"
     ]
    }
   ],
   "source": [
    "url = 'https://finance.yahoo.com/quote/NTDOY/financials'\n",
    "driver = create_webdriver()\n",
    "driver.get(url)\n",
    "soup = BeautifulSoup(driver.page_source, 'lxml')"
   ]
  },
  {
   "cell_type": "code",
   "execution_count": 20,
   "id": "eddbad45",
   "metadata": {},
   "outputs": [],
   "source": [
    "currency_regex = re.compile('^Currency in.*')"
   ]
  },
  {
   "cell_type": "code",
   "execution_count": 27,
   "id": "b9e13446",
   "metadata": {},
   "outputs": [
    {
     "data": {
      "text/plain": [
       "'JPY'"
      ]
     },
     "execution_count": 27,
     "metadata": {},
     "output_type": "execute_result"
    }
   ],
   "source": [
    "soup(text = currency_regex)[0].split(' ')[2].replace('.','')"
   ]
  }
 ],
 "metadata": {
  "kernelspec": {
   "display_name": "financial-reporting",
   "language": "python",
   "name": "financial-reporting"
  },
  "language_info": {
   "codemirror_mode": {
    "name": "ipython",
    "version": 3
   },
   "file_extension": ".py",
   "mimetype": "text/x-python",
   "name": "python",
   "nbconvert_exporter": "python",
   "pygments_lexer": "ipython3",
   "version": "3.8.7"
  }
 },
 "nbformat": 4,
 "nbformat_minor": 5
}
