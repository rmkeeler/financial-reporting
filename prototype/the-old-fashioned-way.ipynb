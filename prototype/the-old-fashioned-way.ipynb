{
 "cells": [
  {
   "cell_type": "markdown",
   "id": "069e89e5",
   "metadata": {},
   "source": [
    "# We scraping Yahoo Finance, baby"
   ]
  },
  {
   "cell_type": "code",
   "execution_count": 1,
   "id": "4a3126da",
   "metadata": {},
   "outputs": [],
   "source": [
    "# Get important definitions from project root\n",
    "import os\n",
    "os.chdir('../')\n",
    "from definitions import WEBDRIVER_PATH\n",
    "import sys\n",
    "sys.path.append(WEBDRIVER_PATH)\n",
    "\n",
    "# Import packages important to this project\n",
    "# Analysis Packages\n",
    "import statistics as stat\n",
    "import pandas as pd\n",
    "import numpy as np\n",
    "\n",
    "# Text parsing packages\n",
    "import re\n",
    "\n",
    "# Web crawling packages\n",
    "from selenium import webdriver\n",
    "from selenium.webdriver.chrome.service import Service\n",
    "from selenium.webdriver.common.by import By\n",
    "from bs4 import BeautifulSoup"
   ]
  },
  {
   "cell_type": "code",
   "execution_count": 2,
   "id": "afdabede",
   "metadata": {},
   "outputs": [
    {
     "data": {
      "text/plain": [
       "['C:\\\\users\\\\keele\\\\onedrive\\\\projects\\\\financial-reporting\\\\prototype',\n",
       " 'C:\\\\Users\\\\keele\\\\OneDrive\\\\Projects\\\\pyPackages',\n",
       " 'C:\\\\Users\\\\keele\\\\AppData\\\\Local\\\\Programs\\\\Python\\\\Python38\\\\python38.zip',\n",
       " 'C:\\\\Users\\\\keele\\\\AppData\\\\Local\\\\Programs\\\\Python\\\\Python38\\\\DLLs',\n",
       " 'C:\\\\Users\\\\keele\\\\AppData\\\\Local\\\\Programs\\\\Python\\\\Python38\\\\lib',\n",
       " 'C:\\\\Users\\\\keele\\\\AppData\\\\Local\\\\Programs\\\\Python\\\\Python38',\n",
       " 'C:\\\\users\\\\keele\\\\onedrive\\\\projects\\\\financial-reporting\\\\env',\n",
       " '',\n",
       " 'C:\\\\users\\\\keele\\\\onedrive\\\\projects\\\\financial-reporting\\\\env\\\\lib\\\\site-packages',\n",
       " 'c:\\\\users\\\\keele\\\\onedrive\\\\projects\\\\financial-reporting',\n",
       " 'C:\\\\users\\\\keele\\\\onedrive\\\\projects\\\\financial-reporting\\\\env\\\\lib\\\\site-packages\\\\win32',\n",
       " 'C:\\\\users\\\\keele\\\\onedrive\\\\projects\\\\financial-reporting\\\\env\\\\lib\\\\site-packages\\\\win32\\\\lib',\n",
       " 'C:\\\\users\\\\keele\\\\onedrive\\\\projects\\\\financial-reporting\\\\env\\\\lib\\\\site-packages\\\\Pythonwin',\n",
       " 'C:\\\\users\\\\keele\\\\onedrive\\\\projects\\\\financial-reporting\\\\env\\\\lib\\\\site-packages\\\\IPython\\\\extensions',\n",
       " 'C:\\\\Users\\\\keele\\\\.ipython',\n",
       " 'C:\\\\users\\\\keele\\\\onedrive\\\\projects\\\\financial-reporting\\\\webdriver\\\\']"
      ]
     },
     "execution_count": 2,
     "metadata": {},
     "output_type": "execute_result"
    }
   ],
   "source": [
    "sys.path"
   ]
  },
  {
   "cell_type": "code",
   "execution_count": 3,
   "id": "8935a472",
   "metadata": {},
   "outputs": [],
   "source": [
    "# DEFINE FUNCTIONS\n",
    "def clean_numeric(text, frmat = float):\n",
    "    \"\"\"\n",
    "    Text numbers in text format. Cleans out characters that make conversion to int or float impossible.\n",
    "    \n",
    "    Returns the values in chosen frmat function (i.e. int or float)\n",
    "    \"\"\"\n",
    "    clean_text = text\n",
    "    \n",
    "    # Define replacements\n",
    "    rep = {',':'',\n",
    "          '^\\-$':'0'}\n",
    "    \n",
    "    for found, replaced in rep.items():\n",
    "        clean_text = re.sub(found, replaced, clean_text)\n",
    "        \n",
    "    return(frmat(clean_text))\n",
    "\n",
    "def create_webdriver():\n",
    "    \"\"\"\n",
    "    Create and return a Chrome web driver for use in this app's scraping functions.\n",
    "    \n",
    "    We're using a webdriver instead of just raw requests, because yahoo finance income statement rows\n",
    "    sometimes need to be expanded with an HTML button (like OpEx).\n",
    "    \"\"\"\n",
    "    # Specify the file of the driver to be used\n",
    "    driver_name = 'chromedriver.exe'\n",
    "    \n",
    "    # Instantiate driver options\n",
    "    options = webdriver.ChromeOptions()\n",
    "    \n",
    "    # Specify driver options\n",
    "    options.add_argument('--headless')\n",
    "    options.add_argument('--ignore_certificate_errors')\n",
    "    options.add_argument('--incognito')\n",
    "    \n",
    "    # Instantiate driver service\n",
    "    service = Service(WEBDRIVER_PATH + driver_name)\n",
    "    \n",
    "    # Instantiate driver\n",
    "    driver = webdriver.Chrome(service = service, options = options)\n",
    "    \n",
    "    return(driver)\n",
    "\n",
    "def get_income_statement(webdriver, ticker_symbol):\n",
    "    \"\"\"\n",
    "    Get income statement for company = ticker_symbol from yahoo finance.\n",
    "    \n",
    "    Only returns the set of divs on the page corresponding to income statement rows and its header.\n",
    "    \n",
    "    Recommended use case is passing the output to the following dictify_income() function to get a proper\n",
    "    income statement dict with many more use cases.\n",
    "    \"\"\"\n",
    "    url = 'https://finance.yahoo.com/quote/{}/financials'.format(ticker_symbol)\n",
    "    # Open the page in webdriver\n",
    "    webdriver.get(url)\n",
    "    \n",
    "    # Expand the OpEx row on the page\n",
    "    webdriver.find_element(By.XPATH, '//button[@aria-label=\"Operating Expense\"]').click()\n",
    "    \n",
    "    # Get the page's soup\n",
    "    soup = BeautifulSoup(webdriver.page_source, 'lxml')\n",
    "    \n",
    "    # Get the income statement's heading\n",
    "    statement_heading = soup.find('div',{'class':'D(tbhg)'}).select_one('div:first-child').find_all('div')\n",
    "    \n",
    "    # Get list of divs from the page source that correspond to income statement rows\n",
    "    statement_rows = soup.find_all('div',{'data-test':'fin-row'})\n",
    "    \n",
    "    return(statement_heading, statement_rows)\n",
    "\n",
    "def dictify_income(statement_heading, statement_rows):\n",
    "    \"\"\"\n",
    "    Takes an income statement heading and a list of income statement rows as returned by get_income_statement().\n",
    "    Literally, these are sets of divs from the yahoo finance page's dom.\n",
    "    \n",
    "    Gets rid of all the dom baggage and returns a simple dict of income statement rows.\n",
    "    \"\"\"\n",
    "    # Instantiate the income_dict\n",
    "    income_dict = dict()\n",
    "    \n",
    "    ## STEP 1: Get the years column before doing anything else. Requires special process.\n",
    "    # We take indices [2:], because first two columns are the row name (\"breakdown\") and a blank column for formatting\n",
    "    income_dict['Year'] = np.array([x.text for x in statement_heading[2:]])\n",
    "    \n",
    "    ## STEP 2.PREAMBLE: Establish the mode number of columns in the income statement\n",
    "    # We'll use this to weed out subheader rows that have been expanded (subheader rows will show more columns than mode value)\n",
    "    # Requires statistics package aliased as \"stat\"\n",
    "    col_counts = list()\n",
    "    for row in statement_rows:\n",
    "        col_counts.append(len(row.find_all('div',{'data-test':'fin-col'})))\n",
    "    col_mode = stat.mode(col_counts)\n",
    "    \n",
    "    ## STEP 2: Iterate through income statement rows and pull out the values into the dict\n",
    "    for row in statement_rows:\n",
    "        # Get a list of the columns in the row\n",
    "        cols = row.find_all('div',{'data-test':'fin-col'})\n",
    "        \n",
    "        # Check to see if column count == the col_mode we calculated above\n",
    "        # If yes, it's safe for extraction into the dict\n",
    "        # If no, it's an expanded subheader row, and we should skip it\n",
    "        # Result is several rows for the components of OpEx and NO separate row for the OpEx aggregate\n",
    "        if len(cols) == col_mode:\n",
    "            \n",
    "            # Light cleaning: get rid of commas, replace '-' with zero, format all values as floats rather than text\n",
    "            rowvals = np.array([clean_numeric(x.text) for x in cols])\n",
    "            rowname = row.select_one('div:first-child').find_all('div')[0].text\n",
    "            \n",
    "            income_dict[rowname] = rowvals\n",
    "    \n",
    "    return(income_dict)"
   ]
  },
  {
   "cell_type": "code",
   "execution_count": 4,
   "id": "8137b6e0",
   "metadata": {},
   "outputs": [],
   "source": [
    "### Set up the webdriver\n",
    "driver = create_webdriver()"
   ]
  },
  {
   "cell_type": "code",
   "execution_count": null,
   "id": "c960122c",
   "metadata": {},
   "outputs": [],
   "source": [
    "### Get the income statement's list of dom rows\n",
    "income_heading, income_rows = get_income_statement(driver, 'INTC')"
   ]
  },
  {
   "cell_type": "code",
   "execution_count": null,
   "id": "40d8cb0a",
   "metadata": {},
   "outputs": [],
   "source": [
    "### Get income statement in convenient dict form\n",
    "income_dict = dictify_income(income_heading, income_rows)"
   ]
  },
  {
   "cell_type": "code",
   "execution_count": null,
   "id": "2263c16f",
   "metadata": {},
   "outputs": [],
   "source": [
    "income_dict['Cost of Revenue'] / income_dict['Total Revenue']"
   ]
  },
  {
   "cell_type": "code",
   "execution_count": null,
   "id": "afabafa1",
   "metadata": {},
   "outputs": [],
   "source": [
    "income_dict['Year']"
   ]
  },
  {
   "cell_type": "code",
   "execution_count": null,
   "id": "b9a4fe93",
   "metadata": {},
   "outputs": [],
   "source": [
    "pd.DataFrame(income_dict)"
   ]
  }
 ],
 "metadata": {
  "kernelspec": {
   "display_name": "financial-reporting",
   "language": "python",
   "name": "financial-reporting"
  },
  "language_info": {
   "codemirror_mode": {
    "name": "ipython",
    "version": 3
   },
   "file_extension": ".py",
   "mimetype": "text/x-python",
   "name": "python",
   "nbconvert_exporter": "python",
   "pygments_lexer": "ipython3",
   "version": "3.8.7"
  }
 },
 "nbformat": 4,
 "nbformat_minor": 5
}
