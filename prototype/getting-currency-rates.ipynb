{
 "cells": [
  {
   "cell_type": "code",
   "execution_count": 1,
   "id": "5a9f937d",
   "metadata": {},
   "outputs": [],
   "source": [
    "from forex_python.converter import CurrencyRates\n",
    "from datetime import datetime, timedelta\n",
    "import numpy as np\n",
    "from modules.forex import get_conversion_rates, trend_mean_rates\n",
    "from modules.files import save_json, import_json"
   ]
  },
  {
   "cell_type": "code",
   "execution_count": 4,
   "id": "510f00e3",
   "metadata": {},
   "outputs": [],
   "source": [
    "#yen_to_usd = trend_mean_rates('JPY','USD',2016,2021)\n",
    "yen_to_usd = import_json('../assets/yen_to_usd.json')"
   ]
  },
  {
   "cell_type": "code",
   "execution_count": 5,
   "id": "51e74b0d",
   "metadata": {},
   "outputs": [
    {
     "data": {
      "text/plain": [
       "array([0.00921187, 0.00890896, 0.0090637 , 0.0091662 , 0.00936655,\n",
       "       0.00912766])"
      ]
     },
     "execution_count": 5,
     "metadata": {},
     "output_type": "execute_result"
    }
   ],
   "source": [
    "np.array(list(yen_to_usd.values()))"
   ]
  },
  {
   "cell_type": "code",
   "execution_count": 6,
   "id": "0eb4e2ca",
   "metadata": {},
   "outputs": [
    {
     "data": {
      "text/plain": [
       "{'2016': 0.00921187024959825,\n",
       " '2017': 0.008908961851413743,\n",
       " '2018': 0.009063701958698206,\n",
       " '2019': 0.009166197732901558,\n",
       " '2020': 0.00936655323757658,\n",
       " '2021': 0.009127661768831648}"
      ]
     },
     "execution_count": 6,
     "metadata": {},
     "output_type": "execute_result"
    }
   ],
   "source": [
    "yen_to_usd"
   ]
  },
  {
   "cell_type": "code",
   "execution_count": null,
   "id": "0572e6b7",
   "metadata": {},
   "outputs": [],
   "source": [
    "save_statement(yen_to_usd, '../assets/yen_to_usd.json')"
   ]
  },
  {
   "cell_type": "code",
   "execution_count": null,
   "id": "f606647b",
   "metadata": {},
   "outputs": [],
   "source": [
    "#euro_to_usd = trend_mean_rates('EUR','USD',2016,2021)"
   ]
  },
  {
   "cell_type": "code",
   "execution_count": null,
   "id": "eb68d878",
   "metadata": {},
   "outputs": [],
   "source": [
    "save_statement(euro_to_usd, '../assets/euro_to_usd.json')"
   ]
  }
 ],
 "metadata": {
  "kernelspec": {
   "display_name": "financial-reporting",
   "language": "python",
   "name": "financial-reporting"
  },
  "language_info": {
   "codemirror_mode": {
    "name": "ipython",
    "version": 3
   },
   "file_extension": ".py",
   "mimetype": "text/x-python",
   "name": "python",
   "nbconvert_exporter": "python",
   "pygments_lexer": "ipython3",
   "version": "3.8.7"
  }
 },
 "nbformat": 4,
 "nbformat_minor": 5
}
