{
 "cells": [
  {
   "cell_type": "code",
   "execution_count": 22,
   "id": "5a9f937d",
   "metadata": {},
   "outputs": [],
   "source": [
    "from forex_python.converter import CurrencyRates\n",
    "from datetime import datetime, timedelta\n",
    "import numpy as np\n",
    "from modules.forex import get_conversion_rates, trend_mean_rates\n",
    "from modules.files import save_json, import_json\n",
    "from definitions import ASSET_PATH"
   ]
  },
  {
   "cell_type": "code",
   "execution_count": 19,
   "id": "bcf43eea",
   "metadata": {},
   "outputs": [],
   "source": [
    "a = np.asarray([2017,2016])\n",
    "b = np.asarray([2020,2019,2018,2017,2016,2015,2014,2013,2012,2011,2010])\n",
    "c = np.asarray(['cat','dog','bear','rabbit','sheep','wolf','badger','dinosaur','asshole','donkey','burrito'])"
   ]
  },
  {
   "cell_type": "code",
   "execution_count": 23,
   "id": "906d9211",
   "metadata": {},
   "outputs": [],
   "source": [
    "test = import_json(ASSET_PATH + 'jpy_to_usd.json')"
   ]
  },
  {
   "cell_type": "code",
   "execution_count": 20,
   "id": "037213e6",
   "metadata": {},
   "outputs": [],
   "source": [
    "mask = np.in1d(b, a)"
   ]
  },
  {
   "cell_type": "code",
   "execution_count": 21,
   "id": "19a7bbeb",
   "metadata": {},
   "outputs": [
    {
     "data": {
      "text/plain": [
       "array(['rabbit', 'sheep'], dtype='<U8')"
      ]
     },
     "execution_count": 21,
     "metadata": {},
     "output_type": "execute_result"
    }
   ],
   "source": [
    "c[mask]"
   ]
  },
  {
   "cell_type": "code",
   "execution_count": 4,
   "id": "510f00e3",
   "metadata": {},
   "outputs": [],
   "source": [
    "#yen_to_usd = trend_mean_rates('JPY','USD',2016,2021)\n",
    "yen_to_usd = import_json('../assets/yen_to_usd.json')"
   ]
  },
  {
   "cell_type": "code",
   "execution_count": 5,
   "id": "51e74b0d",
   "metadata": {},
   "outputs": [
    {
     "data": {
      "text/plain": [
       "array([0.00921187, 0.00890896, 0.0090637 , 0.0091662 , 0.00936655,\n",
       "       0.00912766])"
      ]
     },
     "execution_count": 5,
     "metadata": {},
     "output_type": "execute_result"
    }
   ],
   "source": [
    "np.array(list(yen_to_usd.values()))"
   ]
  },
  {
   "cell_type": "code",
   "execution_count": 6,
   "id": "0eb4e2ca",
   "metadata": {},
   "outputs": [
    {
     "data": {
      "text/plain": [
       "{'2016': 0.00921187024959825,\n",
       " '2017': 0.008908961851413743,\n",
       " '2018': 0.009063701958698206,\n",
       " '2019': 0.009166197732901558,\n",
       " '2020': 0.00936655323757658,\n",
       " '2021': 0.009127661768831648}"
      ]
     },
     "execution_count": 6,
     "metadata": {},
     "output_type": "execute_result"
    }
   ],
   "source": [
    "yen_to_usd"
   ]
  }
 ],
 "metadata": {
  "kernelspec": {
   "display_name": "financial-reporting",
   "language": "python",
   "name": "financial-reporting"
  },
  "language_info": {
   "codemirror_mode": {
    "name": "ipython",
    "version": 3
   },
   "file_extension": ".py",
   "mimetype": "text/x-python",
   "name": "python",
   "nbconvert_exporter": "python",
   "pygments_lexer": "ipython3",
   "version": "3.8.7"
  }
 },
 "nbformat": 4,
 "nbformat_minor": 5
}
